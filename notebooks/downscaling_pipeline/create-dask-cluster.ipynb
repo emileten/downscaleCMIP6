{
 "cells": [
  {
   "cell_type": "code",
   "execution_count": null,
   "id": "3d807cf2-1473-4b1b-a454-d251f21af446",
   "metadata": {},
   "outputs": [],
   "source": [
    "import time\n",
    "import dask\n",
    "import rhg_compute_tools.kubernetes as rhgk\n",
    "import rhg_compute_tools.utils as rhgu\n",
    "import fsspec\n",
    "import xarray as xr"
   ]
  },
  {
   "cell_type": "code",
   "execution_count": 2,
   "id": "3adcefa4-b0fa-44dc-8113-a82c8211c044",
   "metadata": {},
   "outputs": [],
   "source": [
    "client, cluster = rhgk.get_micro_cluster()"
   ]
  },
  {
   "cell_type": "code",
   "execution_count": null,
   "id": "8c7b3d80-2604-4b2a-9326-4ee45f9b5af0",
   "metadata": {},
   "outputs": [],
   "source": [
    "print('https://compute.impactlab.org' + cluster.dashboard_link)"
   ]
  },
  {
   "cell_type": "code",
   "execution_count": 3,
   "id": "03be1f30-4143-4075-a7bc-2bc6f011776c",
   "metadata": {},
   "outputs": [],
   "source": [
    "N_WORKERS = 5\n",
    "cluster.scale(N_WORKERS)"
   ]
  },
  {
   "cell_type": "code",
   "execution_count": null,
   "id": "16ba0dd9-7e9f-42de-b24f-6580fd2776db",
   "metadata": {},
   "outputs": [],
   "source": [
    "# wait until the workers come online to do anything else\n",
    "while len(client.ncores()) < N_WORKERS:\n",
    "    time.sleep(5)"
   ]
  },
  {
   "cell_type": "code",
   "execution_count": null,
   "id": "d5de594f-d325-49d5-930d-1d446ba13604",
   "metadata": {},
   "outputs": [],
   "source": [
    "try:\n",
    "    fs = fsspec.filesystem(\n",
    "        'gs',\n",
    "        timeout=120,\n",
    "        cache_timeout=120,\n",
    "        requests_timeout=120,\n",
    "        read_timeout=120,\n",
    "        conn_timeout=120,\n",
    "    )\n",
    "    ds = xr.open_zarr(fs.get_mapper('gs://downscaled-288ec5ac/stage/ScenarioMIP/BCC/BCC-CSM2-MR/ssp370/r1i1p1f1/day/tasmax/gn/v20220125010335.zarr'))\n",
    "    res = ds.isel(lat=0, lon=0).compute().mean()\n",
    "    print(res)\n",
    "except Exception:\n",
    "    client.close()\n",
    "    cluster.close()\n",
    "    raise"
   ]
  },
  {
   "cell_type": "code",
   "execution_count": 5,
   "id": "86d0accb-0ef6-45ae-b2af-7dcba59447e2",
   "metadata": {},
   "outputs": [],
   "source": [
    "client.close()\n",
    "cluster.close()"
   ]
  }
 ],
 "metadata": {
  "kernelspec": {
   "display_name": "Python 3 (ipykernel)",
   "language": "python",
   "name": "python3"
  },
  "language_info": {
   "codemirror_mode": {
    "name": "ipython",
    "version": 3
   },
   "file_extension": ".py",
   "mimetype": "text/x-python",
   "name": "python",
   "nbconvert_exporter": "python",
   "pygments_lexer": "ipython3",
   "version": "3.9.10"
  },
  "widgets": {
   "application/vnd.jupyter.widget-state+json": {
    "state": {},
    "version_major": 2,
    "version_minor": 0
   }
  }
 },
 "nbformat": 4,
 "nbformat_minor": 5
}
