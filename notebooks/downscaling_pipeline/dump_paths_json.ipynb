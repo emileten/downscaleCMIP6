{
 "cells": [
  {
   "cell_type": "code",
   "execution_count": 9,
   "id": "a18bbf3b-e84e-4c6a-9b59-2a474e0cf28b",
   "metadata": {},
   "outputs": [],
   "source": [
    "#%load_ext autoreload\n",
    "#%autoreload"
   ]
  },
  {
   "cell_type": "code",
   "execution_count": 10,
   "id": "6602c9d2-2004-4c3e-82dc-c4e64f683722",
   "metadata": {},
   "outputs": [
    {
     "name": "stdout",
     "output_type": "stream",
     "text": [
      "Requirement already satisfied: xclim in /srv/conda/envs/notebook/lib/python3.8/site-packages (0.32.1)\n",
      "Requirement already satisfied: pint>=0.10 in /srv/conda/envs/notebook/lib/python3.8/site-packages (from xclim) (0.18)\n",
      "Requirement already satisfied: numpy>=1.16 in /srv/conda/envs/notebook/lib/python3.8/site-packages (from xclim) (1.21.5)\n",
      "Requirement already satisfied: Click in /srv/conda/envs/notebook/lib/python3.8/site-packages (from xclim) (8.0.3)\n",
      "Requirement already satisfied: numba in /srv/conda/envs/notebook/lib/python3.8/site-packages (from xclim) (0.53.1)\n",
      "Requirement already satisfied: cftime>=1.4.1 in /srv/conda/envs/notebook/lib/python3.8/site-packages (from xclim) (1.5.1.1)\n",
      "Requirement already satisfied: xarray>=0.17 in /srv/conda/envs/notebook/lib/python3.8/site-packages (from xclim) (0.20.2)\n",
      "Requirement already satisfied: scipy>=1.2 in /srv/conda/envs/notebook/lib/python3.8/site-packages (from xclim) (1.7.3)\n",
      "Requirement already satisfied: bottleneck~=1.3.1 in /srv/conda/envs/notebook/lib/python3.8/site-packages (from xclim) (1.3.2)\n",
      "Requirement already satisfied: scikit-learn>=0.21.3 in /srv/conda/envs/notebook/lib/python3.8/site-packages (from xclim) (1.0.2)\n",
      "Requirement already satisfied: jsonpickle in /srv/conda/envs/notebook/lib/python3.8/site-packages (from xclim) (2.0.0)\n",
      "Requirement already satisfied: packaging>=20.0 in /srv/conda/envs/notebook/lib/python3.8/site-packages (from xclim) (21.3)\n",
      "Requirement already satisfied: boltons>=20.1 in /srv/conda/envs/notebook/lib/python3.8/site-packages (from xclim) (21.0.0)\n",
      "Requirement already satisfied: pandas>=0.23 in /srv/conda/envs/notebook/lib/python3.8/site-packages (from xclim) (1.3.5)\n",
      "Requirement already satisfied: pyyaml in /srv/conda/envs/notebook/lib/python3.8/site-packages (from xclim) (6.0)\n",
      "Requirement already satisfied: dask[array]>=2.6 in /srv/conda/envs/notebook/lib/python3.8/site-packages (from xclim) (2021.12.0)\n",
      "Requirement already satisfied: fsspec>=0.6.0 in /srv/conda/envs/notebook/lib/python3.8/site-packages (from dask[array]>=2.6->xclim) (2021.11.1)\n",
      "Requirement already satisfied: cloudpickle>=1.1.1 in /srv/conda/envs/notebook/lib/python3.8/site-packages (from dask[array]>=2.6->xclim) (2.0.0)\n",
      "Requirement already satisfied: toolz>=0.8.2 in /srv/conda/envs/notebook/lib/python3.8/site-packages (from dask[array]>=2.6->xclim) (0.11.2)\n",
      "Requirement already satisfied: partd>=0.3.10 in /srv/conda/envs/notebook/lib/python3.8/site-packages (from dask[array]>=2.6->xclim) (1.2.0)\n",
      "Requirement already satisfied: pyparsing!=3.0.5,>=2.0.2 in /srv/conda/envs/notebook/lib/python3.8/site-packages (from packaging>=20.0->xclim) (3.0.6)\n",
      "Requirement already satisfied: python-dateutil>=2.7.3 in /srv/conda/envs/notebook/lib/python3.8/site-packages (from pandas>=0.23->xclim) (2.8.2)\n",
      "Requirement already satisfied: pytz>=2017.3 in /srv/conda/envs/notebook/lib/python3.8/site-packages (from pandas>=0.23->xclim) (2021.3)\n",
      "Requirement already satisfied: threadpoolctl>=2.0.0 in /srv/conda/envs/notebook/lib/python3.8/site-packages (from scikit-learn>=0.21.3->xclim) (3.0.0)\n",
      "Requirement already satisfied: joblib>=0.11 in /srv/conda/envs/notebook/lib/python3.8/site-packages (from scikit-learn>=0.21.3->xclim) (1.1.0)\n",
      "Requirement already satisfied: setuptools in /srv/conda/envs/notebook/lib/python3.8/site-packages (from numba->xclim) (60.1.1)\n",
      "Requirement already satisfied: llvmlite<0.37,>=0.36.0rc1 in /srv/conda/envs/notebook/lib/python3.8/site-packages (from numba->xclim) (0.36.0)\n",
      "Requirement already satisfied: locket in /srv/conda/envs/notebook/lib/python3.8/site-packages (from partd>=0.3.10->dask[array]>=2.6->xclim) (0.2.0)\n",
      "Requirement already satisfied: six>=1.5 in /srv/conda/envs/notebook/lib/python3.8/site-packages (from python-dateutil>=2.7.3->pandas>=0.23->xclim) (1.16.0)\n"
     ]
    }
   ],
   "source": [
    "! pip install xclim\n",
    "from science_validation_manual import *\n",
    "import json\n",
    "from models_QC import QC_models_dict_precip\n",
    "#in case you're modifying external modules while running stuff from this notebook"
   ]
  },
  {
   "cell_type": "code",
   "execution_count": null,
   "id": "2bee8e0e-3069-4e04-9412-0f369cc6648d",
   "metadata": {
    "tags": [
     "parameters"
    ]
   },
   "outputs": [],
   "source": [
    "argo_token = None"
   ]
  },
  {
   "cell_type": "code",
   "execution_count": null,
   "id": "729138f9-6973-44e4-90b5-2d0095a59e8d",
   "metadata": {},
   "outputs": [],
   "source": [
    "mydict = {'pr': {'ssp370': {}}}\n",
    "models_ID_dict = QC_models_dict_precip()\n",
    "for gcm, uid in models_ID_dict.items():\n",
    "    print(f'doing {gcm}')\n",
    "    workflow_location = 'archived-workflows' \n",
    "    manifest = get_manifest(workflow_identifier=uid, auth_token=argo_token, workflow_location=workflow_location)\n",
    "    with open(f\"/home/jovyan/output/{uid}.json\", \"w\") as outfile:\n",
    "        json.dump(manifest, outfile)\n",
    "    try:\n",
    "        data_dict = collect_paths_pr(manifest, gcm, 'ssp370', 'pr', False)\n",
    "    except Exception:\n",
    "        data_dict = None\n",
    "        pass\n",
    "    mydict['pr']['ssp370'][gcm] = data_dict\n",
    "with open(\"/home/jovyan/output/e2e_data_paths_pr_ssp370.json\", \"w\") as outfile:\n",
    "    json.dump(mydict, outfile)"
   ]
  },
  {
   "cell_type": "code",
   "execution_count": null,
   "id": "c8b7325f-09c5-42dd-8cf8-f58410e7b596",
   "metadata": {},
   "outputs": [],
   "source": [
    "# workflow_location = 'archived-workflows'\n",
    "# #models_ID_dict = QC_models_dict_precip()\n",
    "# gcm = 'GFDL-CM4'\n",
    "# manifest = get_manifest(workflow_identifier='fb0c09da-93df-4e79-ab45-8dc72af09873', auth_token=argo_token, workflow_location=workflow_location)\n",
    "# data_dict = collect_paths_pr(manifest, gcm, 'ssp245', 'pr', True)"
   ]
  },
  {
   "cell_type": "code",
   "execution_count": null,
   "id": "e8a721cb-4b8d-489b-9003-a32fa1a910a6",
   "metadata": {},
   "outputs": [],
   "source": [
    "#print(data_dict)"
   ]
  }
 ],
 "metadata": {
  "kernelspec": {
   "display_name": "Python 3 (ipykernel)",
   "language": "python",
   "name": "python3"
  },
  "language_info": {
   "codemirror_mode": {
    "name": "ipython",
    "version": 3
   },
   "file_extension": ".py",
   "mimetype": "text/x-python",
   "name": "python",
   "nbconvert_exporter": "python",
   "pygments_lexer": "ipython3",
   "version": "3.8.12"
  },
  "widgets": {
   "application/vnd.jupyter.widget-state+json": {
    "state": {},
    "version_major": 2,
    "version_minor": 0
   }
  }
 },
 "nbformat": 4,
 "nbformat_minor": 5
}
