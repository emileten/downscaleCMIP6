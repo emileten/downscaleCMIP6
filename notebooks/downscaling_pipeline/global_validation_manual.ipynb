{
 "cells": [
  {
   "cell_type": "markdown",
   "metadata": {
    "tags": []
   },
   "source": [
    "### Global Validation ###\n",
    "\n",
    "This notebook combines several validation notebooks: `global_validation_tasmax_v2.ipynb` and `global_validation_dtr_v2.ipynb` along with `check_aiqpd_downscaled_data.ipynb` to create a \"master\" global validation notebook. It also borrows validation code from the ERA-5 workflow, `validate_era5_hourlyORdaily_files.ipynb`. It is intended to be run with `papermill`. \n",
    "\n",
    "### Data Sources ###\n",
    "\n",
    "Coarse Resolution: \n",
    "- CMIP6 \n",
    "- Bias corrected data \n",
    "- ERA-5\n",
    "\n",
    "Fine Resolution: \n",
    "- Bias corrected data \n",
    "- Downscaled data \n",
    "- ERA-5 (fine resolution)\n",
    "- ERA-5 (coarse resolution resampled to fine resolution) \n",
    "\n",
    "### Types of Validation ### \n",
    "\n",
    "Basic: \n",
    "- maxes, means, mins  \n",
    "    - CMIP6, bias corrected and downscaled \n",
    "    - historical (1995-2014), 2020-2040, 2040-2060, 2060-2080, 2080-2100 \n",
    "- differences between historical and future time periods for bias corrected and downscaled\n",
    "- differences between bias corrected and downscaled data \n",
    "\n",
    "Variable-specific: \n",
    "- GMST\n",
    "- days over 95 (future-historical difference plots)\n",
    "- max # of consecutive dry days, highest precip amount over 5-day rolling window"
   ]
  },
  {
   "cell_type": "code",
   "execution_count": 1,
   "metadata": {},
   "outputs": [],
   "source": [
    "# in case you're modifying external modules while running stuff from this notebook\n",
    "# %load_ext autoreload\n",
    "# %autoreload"
   ]
  },
  {
   "cell_type": "code",
   "execution_count": 2,
   "metadata": {},
   "outputs": [
    {
     "name": "stdout",
     "output_type": "stream",
     "text": [
      "Requirement already satisfied: xclim in /srv/conda/envs/notebook/lib/python3.8/site-packages (0.31.0)\n",
      "Requirement already satisfied: xarray>=0.17 in /srv/conda/envs/notebook/lib/python3.8/site-packages (from xclim) (0.20.1)\n",
      "Requirement already satisfied: scipy>=1.2 in /srv/conda/envs/notebook/lib/python3.8/site-packages (from xclim) (1.7.3)\n",
      "Requirement already satisfied: numba in /srv/conda/envs/notebook/lib/python3.8/site-packages (from xclim) (0.53.1)\n",
      "Requirement already satisfied: pandas>=0.23 in /srv/conda/envs/notebook/lib/python3.8/site-packages (from xclim) (1.3.4)\n",
      "Requirement already satisfied: bottleneck~=1.3.1 in /srv/conda/envs/notebook/lib/python3.8/site-packages (from xclim) (1.3.2)\n",
      "Requirement already satisfied: scikit-learn>=0.21.3 in /srv/conda/envs/notebook/lib/python3.8/site-packages (from xclim) (1.0.1)\n",
      "Requirement already satisfied: jsonpickle in /srv/conda/envs/notebook/lib/python3.8/site-packages (from xclim) (2.0.0)\n",
      "Requirement already satisfied: dask[array]>=2.6 in /srv/conda/envs/notebook/lib/python3.8/site-packages (from xclim) (2021.11.2)\n",
      "Requirement already satisfied: packaging>=20.0 in /srv/conda/envs/notebook/lib/python3.8/site-packages (from xclim) (21.3)\n",
      "Requirement already satisfied: pyyaml in /srv/conda/envs/notebook/lib/python3.8/site-packages (from xclim) (6.0)\n",
      "Requirement already satisfied: boltons>=20.1 in /srv/conda/envs/notebook/lib/python3.8/site-packages (from xclim) (21.0.0)\n",
      "Requirement already satisfied: numpy>=1.16 in /srv/conda/envs/notebook/lib/python3.8/site-packages (from xclim) (1.21.4)\n",
      "Requirement already satisfied: pint>=0.9 in /srv/conda/envs/notebook/lib/python3.8/site-packages (from xclim) (0.18)\n",
      "Requirement already satisfied: cftime>=1.4.1 in /srv/conda/envs/notebook/lib/python3.8/site-packages (from xclim) (1.5.1.1)\n",
      "Requirement already satisfied: Click in /srv/conda/envs/notebook/lib/python3.8/site-packages (from xclim) (8.0.3)\n",
      "Requirement already satisfied: partd>=0.3.10 in /srv/conda/envs/notebook/lib/python3.8/site-packages (from dask[array]>=2.6->xclim) (1.2.0)\n",
      "Requirement already satisfied: cloudpickle>=1.1.1 in /srv/conda/envs/notebook/lib/python3.8/site-packages (from dask[array]>=2.6->xclim) (2.0.0)\n",
      "Requirement already satisfied: toolz>=0.8.2 in /srv/conda/envs/notebook/lib/python3.8/site-packages (from dask[array]>=2.6->xclim) (0.11.2)\n",
      "Requirement already satisfied: fsspec>=0.6.0 in /srv/conda/envs/notebook/lib/python3.8/site-packages (from dask[array]>=2.6->xclim) (2021.11.1)\n",
      "Requirement already satisfied: pyparsing!=3.0.5,>=2.0.2 in /srv/conda/envs/notebook/lib/python3.8/site-packages (from packaging>=20.0->xclim) (3.0.6)\n",
      "Requirement already satisfied: python-dateutil>=2.7.3 in /srv/conda/envs/notebook/lib/python3.8/site-packages (from pandas>=0.23->xclim) (2.8.2)\n",
      "Requirement already satisfied: pytz>=2017.3 in /srv/conda/envs/notebook/lib/python3.8/site-packages (from pandas>=0.23->xclim) (2021.3)\n",
      "Requirement already satisfied: threadpoolctl>=2.0.0 in /srv/conda/envs/notebook/lib/python3.8/site-packages (from scikit-learn>=0.21.3->xclim) (3.0.0)\n",
      "Requirement already satisfied: joblib>=0.11 in /srv/conda/envs/notebook/lib/python3.8/site-packages (from scikit-learn>=0.21.3->xclim) (1.1.0)\n",
      "Requirement already satisfied: llvmlite<0.37,>=0.36.0rc1 in /srv/conda/envs/notebook/lib/python3.8/site-packages (from numba->xclim) (0.36.0)\n",
      "Requirement already satisfied: setuptools in /srv/conda/envs/notebook/lib/python3.8/site-packages (from numba->xclim) (59.4.0)\n",
      "Requirement already satisfied: locket in /srv/conda/envs/notebook/lib/python3.8/site-packages (from partd>=0.3.10->dask[array]>=2.6->xclim) (0.2.0)\n",
      "Requirement already satisfied: six>=1.5 in /srv/conda/envs/notebook/lib/python3.8/site-packages (from python-dateutil>=2.7.3->pandas>=0.23->xclim) (1.16.0)\n"
     ]
    }
   ],
   "source": [
    "! pip install xclim # we don't have this package on compute.impactlab ;"
   ]
  },
  {
   "cell_type": "code",
   "execution_count": 3,
   "metadata": {
    "tags": []
   },
   "outputs": [
    {
     "name": "stderr",
     "output_type": "stream",
     "text": [
      "/srv/conda/envs/notebook/lib/python3.8/site-packages/dask_gateway/client.py:21: FutureWarning: format_bytes is deprecated and will be removed in a future release. Please use dask.utils.format_bytes instead.\n",
      "  from distributed.utils import LoopRunner, format_bytes\n"
     ]
    }
   ],
   "source": [
    "%matplotlib inline \n",
    "import xarray as xr\n",
    "import numpy as np\n",
    "import dask\n",
    "import dask.array as da\n",
    "import dask.distributed as dd\n",
    "import matplotlib.pyplot as plt\n",
    "from cartopy import config\n",
    "import cartopy.crs as ccrs\n",
    "import cartopy.feature as cfeature\n",
    "import os \n",
    "import gcsfs \n",
    "from matplotlib import cm\n",
    "import warnings \n",
    "\n",
    "from science_validation_manual import *\n",
    "import rhg_compute_tools.kubernetes as rhgk"
   ]
  },
  {
   "cell_type": "markdown",
   "metadata": {},
   "source": [
    "### Parametrizing ###"
   ]
  },
  {
   "cell_type": "code",
   "execution_count": 4,
   "metadata": {
    "tags": [
     "parameters"
    ]
   },
   "outputs": [],
   "source": [
    "gcm = 'CAMS-CSM1-0'\n",
    "ssp = 'ssp370' # ssp options: 'ssp126', 'ssp245', 'ssp370', 'ssp585'\n",
    "variable = 'tasmax' # variable options: 'tasmax', 'tasmin', 'dtr', 'pr'\n",
    "argo_token = ''\n",
    "number_of_workers = 160"
   ]
  },
  {
   "cell_type": "markdown",
   "metadata": {},
   "source": [
    "### Set up a cluster ### "
   ]
  },
  {
   "cell_type": "code",
   "execution_count": 5,
   "metadata": {},
   "outputs": [],
   "source": [
    "client, cluster = rhgk.get_standard_cluster()"
   ]
  },
  {
   "cell_type": "code",
   "execution_count": 6,
   "metadata": {},
   "outputs": [],
   "source": [
    "cluster.adapt(minimum=0, maximum=number_of_workers)"
   ]
  },
  {
   "cell_type": "code",
   "execution_count": 7,
   "metadata": {},
   "outputs": [
    {
     "data": {
      "application/vnd.jupyter.widget-view+json": {
       "model_id": "d8e49312bab5459888871d3bc6e73c16",
       "version_major": 2,
       "version_minor": 0
      },
      "text/plain": [
       "VBox(children=(HTML(value='<h2>GatewayCluster</h2>'), HBox(children=(HTML(value='\\n<div>\\n<style scoped>\\n    …"
      ]
     },
     "metadata": {},
     "output_type": "display_data"
    }
   ],
   "source": [
    "cluster"
   ]
  },
  {
   "cell_type": "code",
   "execution_count": 12,
   "metadata": {},
   "outputs": [],
   "source": [
    "# # very important piece of code !\n",
    "client.restart() # clear all tasks - otherwise cluster won't scale down\n",
    "cluster.scale(0)\n",
    "client.close()\n",
    "cluster.close()"
   ]
  },
  {
   "cell_type": "markdown",
   "metadata": {},
   "source": [
    "### Retrieving data paths from workflow ### "
   ]
  },
  {
   "cell_type": "code",
   "execution_count": 8,
   "metadata": {},
   "outputs": [],
   "source": [
    "from models_QC import QC_models_dict\n",
    "models_ID_dict = QC_models_dict()\n",
    "workflow = models_ID_dict[gcm]\n",
    "workflow_location = 'archived-workflows' \n",
    "manifest = get_manifest(workflow_identifier=workflow, auth_token=argo_token, workflow_location=workflow_location)\n",
    "data_dict = collect_paths(manifest, gcm, ssp, variable)"
   ]
  },
  {
   "cell_type": "markdown",
   "metadata": {},
   "source": [
    "### Pre-determined options ### "
   ]
  },
  {
   "cell_type": "code",
   "execution_count": 9,
   "metadata": {
    "tags": []
   },
   "outputs": [],
   "source": [
    "# data output types for running validation \n",
    "cmip6 = True\n",
    "bias_corrected = True\n",
    "downscaled = True\n",
    "basic_diagnostics = True\n",
    "basic_diagnostic_types = ['min','mean','max']\n",
    "gmst = False # takes too long\n",
    "hot_days = True\n",
    "difference_plots = True\n",
    "projection_time_period = '2080_2100' # for difference plots, '2020_2040', '2040_2060', '2060_2080', '2080_2100'\n",
    "units = {'tasmax': 'K', 'tasmin': 'K', 'dtr': 'K', 'pr': 'mm'}\n",
    "maps_color_range = {'tasmax': [260, 320]}\n",
    "years = {'hist': {'start_yr': '1995', 'end_yr': '2014'}, \n",
    "              '2020_2040': {'start_yr': '2020', 'end_yr': '2040'}, \n",
    "              '2040_2060': {'start_yr': '2040', 'end_yr': '2060'}, \n",
    "              '2060_2080': {'start_yr': '2060', 'end_yr': '2080'}, \n",
    "              '2080_2100': {'start_yr': '2080', 'end_yr': '2100'}}\n",
    "years_test = {'hist': {'start_yr': '1995', 'end_yr': '2014'}, \n",
    "              '2020_2040': {'start_yr': '2020', 'end_yr': '2040'}, \n",
    "              '2040_2060': {'start_yr': '2040', 'end_yr': '2060'}}"
   ]
  },
  {
   "cell_type": "code",
   "execution_count": 18,
   "metadata": {},
   "outputs": [],
   "source": [
    "# we only plot gmst if validation variable is tasmax \n",
    "if variable != 'tasmax': \n",
    "    gmst = False\n",
    "    hot_days = False\n",
    "    warnings.warn(\"gmst plotting option changed to False since validation variable is not tasmax\")"
   ]
  },
  {
   "cell_type": "markdown",
   "metadata": {},
   "source": [
    "### Validation ### "
   ]
  },
  {
   "cell_type": "markdown",
   "metadata": {
    "tags": []
   },
   "source": [
    "### for [CMIP6, bias_corrected, downscaled], basic diagnostic plots: [min, mean, max] ### "
   ]
  },
  {
   "cell_type": "code",
   "execution_count": null,
   "metadata": {},
   "outputs": [],
   "source": [
    "%%time \n",
    "if cmip6 and basic_diagnostics:\n",
    "    for stat in basic_diagnostic_types: \n",
    "            plot_diagnostic_climo_periods(read_gcs_zarr(data_dict['coarse']['cmip6'][ssp]), \n",
    "                                          ssp, years, variable, stat, 'cmip6', \n",
    "                                          units[variable], ds_hist=read_gcs_zarr(data_dict['coarse']['cmip6']['historical']), \n",
    "                                          vmin=maps_color_range[variable][0], vmax=maps_color_range[variable][1])"
   ]
  },
  {
   "cell_type": "code",
   "execution_count": null,
   "metadata": {},
   "outputs": [],
   "source": [
    "if bias_corrected and basic_diagnostics: \n",
    "    for var in basic_diagnostic_types:    \n",
    "            plot_diagnostic_climo_periods(read_gcs_zarr(data_dict['coarse']['bias_corrected'][ssp]), \n",
    "                                          ssp, years, variable, stat, 'bias_corrected', \n",
    "                                          units[variable], ds_hist=read_gcs_zarr(data_dict['coarse']['bias_corrected']['historical']), \n",
    "                                          vmin=maps_color_range[variable][0], vmax=maps_color_range[variable][1])"
   ]
  },
  {
   "cell_type": "code",
   "execution_count": null,
   "metadata": {},
   "outputs": [],
   "source": [
    "%%time\n",
    "if downscaled and basic_diagnostics:\n",
    "    for var in basic_diagnostic_types:\n",
    "\n",
    "            plot_diagnostic_climo_periods(read_gcs_zarr(data_dict['fine']['downscaled'][ssp]), \n",
    "                                          ssp, years, variable, 'min', 'downscaled', \n",
    "                                          units[variable], ds_hist=read_gcs_zarr(data_dict['fine']['downscaled']['historical']), \n",
    "                                          vmin=maps_color_range[variable][0], vmax=maps_color_range[variable][1])"
   ]
  },
  {
   "cell_type": "markdown",
   "metadata": {
    "tags": []
   },
   "source": [
    "### GMST for CMIP6, bias corrected and downscaled ### "
   ]
  },
  {
   "cell_type": "code",
   "execution_count": null,
   "metadata": {},
   "outputs": [],
   "source": [
    "if gmst: \n",
    "    plot_gmst_diagnostic(read_gcs_zarr(data_dict['coarse']['cmip6'][ssp]), \n",
    "                         read_gcs_zarr(data_dict['coarse']['bias_corrected'][ssp]), \n",
    "                         variable=variable, ssp=ssp, \n",
    "                         ds_hist_cmip6=read_gcs_zarr(data_dict['coarse']['cmip6']['historical']), \n",
    "                         ds_hist_bc=read_gcs_zarr(data_dict['coarse']['bias_corrected']['historical']))"
   ]
  },
  {
   "cell_type": "markdown",
   "metadata": {
    "jp-MarkdownHeadingCollapsed": true,
    "tags": []
   },
   "source": [
    "### Difference plots: downscaled-bias corrected, and future-historical for both outputs ###"
   ]
  },
  {
   "cell_type": "markdown",
   "metadata": {},
   "source": [
    "### downscaled minus bias corrected ### "
   ]
  },
  {
   "cell_type": "code",
   "execution_count": null,
   "metadata": {},
   "outputs": [],
   "source": [
    "if difference_plots:\n",
    "    plot_downscale_bias_correction_differences(ds_future_bc=data_dict['fine']['bias_corrected'][ssp]).sel(lat=-179.5, lon=-89.5),\n",
    "                                               ds_future_ds=data_dict['fine']['downscaled'][ssp]).sel(lat=-179.5, lon=-89.5),\n",
    "                                               ds_hist_bc=read_gcs_zarr(data_dict['fine']['bias_corrected']['historical']).sel(lat=-179.5, lon=-89.5),\n",
    "                                               ds_hist_ds=read_gcs_zarr(data_dict['fine']['downscaled']['historical']).sel(lat=-179.5, lon=-89.5),\n",
    "                                                variable=variable,\n",
    "                                                units=units[variable],\n",
    "                                                years=years,\n",
    "                                                robust=True,\n",
    "                                                ssp='370',\n",
    "                                                time_period='2080_2100',\n",
    "                                                xr_func=None\n",
    "                                            )"
   ]
  },
  {
   "cell_type": "markdown",
   "metadata": {
    "tags": []
   },
   "source": [
    "### change from historical ###"
   ]
  },
  {
   "cell_type": "code",
   "execution_count": null,
   "metadata": {},
   "outputs": [],
   "source": [
    "if bias_corrected and difference_plots: \n",
    "    plot_change_from_historical(ds_future=read_gcs_zarr(data_dict['fine']['bias_corrected'][ssp]).sel(lat=-179.5, lon=-89.5),\n",
    "                                ds_hist=read_gcs_zarr(data_dict['fine']['bias_corrected']['historical']).sel(lat=-179.5, lon=-89.5),\n",
    "                                data_type='bias_corrected',\n",
    "                                variable=variable,\n",
    "                                units=units[variable],\n",
    "                                years=years,\n",
    "                                robust=True,\n",
    "                                ssp='370',\n",
    "                                time_period='2080_2100',\n",
    "                                xr_func=None)"
   ]
  },
  {
   "cell_type": "code",
   "execution_count": 11,
   "metadata": {},
   "outputs": [
    {
     "ename": "NameError",
     "evalue": "name 'axes' is not defined",
     "output_type": "error",
     "traceback": [
      "\u001b[0;31m---------------------------------------------------------------------------\u001b[0m",
      "\u001b[0;31mNameError\u001b[0m                                 Traceback (most recent call last)",
      "\u001b[0;32m<timed exec>\u001b[0m in \u001b[0;36m<module>\u001b[0;34m\u001b[0m\n",
      "\u001b[0;32m~/repositories/downscaleCMIP6/notebooks/downscaling_pipeline/science_validation_manual.py\u001b[0m in \u001b[0;36mplot_change_from_historical\u001b[0;34m(ds_future, ds_hist, data_type, variable, units, years, robust, ssp, time_period, xr_func)\u001b[0m\n\u001b[1;32m     95\u001b[0m     \u001b[0mcbar_label\u001b[0m \u001b[0;34m=\u001b[0m \u001b[0;34m\"{} ({})\"\u001b[0m\u001b[0;34m.\u001b[0m\u001b[0mformat\u001b[0m\u001b[0;34m(\u001b[0m\u001b[0mvariable\u001b[0m\u001b[0;34m,\u001b[0m \u001b[0munits\u001b[0m\u001b[0;34m)\u001b[0m\u001b[0;34m\u001b[0m\u001b[0;34m\u001b[0m\u001b[0m\n\u001b[1;32m     96\u001b[0m \u001b[0;34m\u001b[0m\u001b[0m\n\u001b[0;32m---> 97\u001b[0;31m     \u001b[0mdiff1\u001b[0m\u001b[0;34m.\u001b[0m\u001b[0mplot\u001b[0m\u001b[0;34m(\u001b[0m\u001b[0max\u001b[0m\u001b[0;34m=\u001b[0m\u001b[0maxes\u001b[0m\u001b[0;34m[\u001b[0m\u001b[0;36m0\u001b[0m\u001b[0;34m]\u001b[0m\u001b[0;34m,\u001b[0m \u001b[0mcmap\u001b[0m\u001b[0;34m=\u001b[0m\u001b[0mcmap\u001b[0m\u001b[0;34m,\u001b[0m \u001b[0mtransform\u001b[0m\u001b[0;34m=\u001b[0m\u001b[0mccrs\u001b[0m\u001b[0;34m.\u001b[0m\u001b[0mPlateCarree\u001b[0m\u001b[0;34m(\u001b[0m\u001b[0;34m)\u001b[0m\u001b[0;34m,\u001b[0m \u001b[0mrobust\u001b[0m\u001b[0;34m=\u001b[0m\u001b[0mrobust\u001b[0m\u001b[0;34m,\u001b[0m \u001b[0mcbar_kwargs\u001b[0m\u001b[0;34m=\u001b[0m\u001b[0;34m{\u001b[0m\u001b[0;34m'label'\u001b[0m\u001b[0;34m:\u001b[0m \u001b[0mcbar_label\u001b[0m\u001b[0;34m}\u001b[0m\u001b[0;34m)\u001b[0m\u001b[0;34m\u001b[0m\u001b[0;34m\u001b[0m\u001b[0m\n\u001b[0m\u001b[1;32m     98\u001b[0m     \u001b[0mdiff2\u001b[0m\u001b[0;34m.\u001b[0m\u001b[0mplot\u001b[0m\u001b[0;34m(\u001b[0m\u001b[0max\u001b[0m\u001b[0;34m=\u001b[0m\u001b[0maxes\u001b[0m\u001b[0;34m[\u001b[0m\u001b[0;36m1\u001b[0m\u001b[0;34m]\u001b[0m\u001b[0;34m,\u001b[0m \u001b[0mcmap\u001b[0m\u001b[0;34m=\u001b[0m\u001b[0mcmap\u001b[0m\u001b[0;34m,\u001b[0m \u001b[0mtransform\u001b[0m\u001b[0;34m=\u001b[0m\u001b[0mccrs\u001b[0m\u001b[0;34m.\u001b[0m\u001b[0mPlateCarree\u001b[0m\u001b[0;34m(\u001b[0m\u001b[0;34m)\u001b[0m\u001b[0;34m,\u001b[0m \u001b[0mrobust\u001b[0m\u001b[0;34m=\u001b[0m\u001b[0mrobust\u001b[0m\u001b[0;34m,\u001b[0m \u001b[0mcbar_kwargs\u001b[0m\u001b[0;34m=\u001b[0m\u001b[0;34m{\u001b[0m\u001b[0;34m'label'\u001b[0m\u001b[0;34m:\u001b[0m \u001b[0mcbar_label\u001b[0m\u001b[0;34m}\u001b[0m\u001b[0;34m)\u001b[0m\u001b[0;34m\u001b[0m\u001b[0;34m\u001b[0m\u001b[0m\n\u001b[1;32m     99\u001b[0m \u001b[0;34m\u001b[0m\u001b[0m\n",
      "\u001b[0;31mNameError\u001b[0m: name 'axes' is not defined"
     ]
    }
   ],
   "source": [
    "%%time\n",
    "if downscaled and difference_plots: \n",
    "    plot_change_from_historical(ds_future=read_gcs_zarr(data_dict['fine']['downscaled'][ssp]).isel(lat=-1, lon=-1),\n",
    "                                ds_hist=read_gcs_zarr(data_dict['fine']['downscaled']['historical']).isel(lat=-1, lon=-1),\n",
    "                                data_type='downscaled',\n",
    "                                variable=variable,\n",
    "                                units=units[variable],\n",
    "                                years=years,\n",
    "                                robust=True,\n",
    "                                ssp='370',\n",
    "                                time_period='2080_2100',\n",
    "                                xr_func=None)"
   ]
  },
  {
   "cell_type": "markdown",
   "metadata": {},
   "source": [
    "### Difference plots for days over 95 degrees F using tasmax ###"
   ]
  },
  {
   "cell_type": "code",
   "execution_count": null,
   "metadata": {},
   "outputs": [],
   "source": [
    "if hot_days and cmip6 and difference_plots:\n",
    "    plot_change_from_historical(ds_future=read_gcs_zarr(data_dict['coarse']['cmip6'][ssp]).sel(lat=-179.5, lon=-89.5),\n",
    "                                ds_hist=read_gcs_zarr(data_dict['coarse']['cmip6']['historical']).sel(lat=-179.5, lon=-89.5),\n",
    "                                data_type='cmip6',\n",
    "                                variable=variable,\n",
    "                                units='days with tasmax >= 95F',\n",
    "                                years=years,\n",
    "                                robust=True,\n",
    "                                ssp='370',\n",
    "                                time_period='2080_2100',\n",
    "                                xr_func=xr_conditional_count)"
   ]
  },
  {
   "cell_type": "code",
   "execution_count": null,
   "metadata": {},
   "outputs": [],
   "source": [
    "if hot_days and bias_corrected and difference_plots:\n",
    "    plot_change_from_historical(ds_future=read_gcs_zarr(data_dict['fine']['bias_corrected'][ssp]).sel(lat=-179.5, lon=-89.5),\n",
    "                                ds_hist=read_gcs_zarr(data_dict['fine']['bias_corrected']['historical']).sel(lat=-179.5, lon=-89.5),\n",
    "                                data_type='bias_corrected',\n",
    "                                variable=variable,\n",
    "                                units='days with tasmax >= 95F',\n",
    "                                years=years,\n",
    "                                robust=True,\n",
    "                                ssp='370',\n",
    "                                time_period='2080_2100',\n",
    "                                xr_func=xr_func=xr_conditional_count)"
   ]
  },
  {
   "cell_type": "code",
   "execution_count": null,
   "metadata": {},
   "outputs": [],
   "source": [
    "if hot_days and downscaled and difference_plots:\n",
    "    plot_change_from_historical(ds_future=read_gcs_zarr(data_dict['fine']['downscaled'][ssp]).sel(lat=-179.5, lon=-89.5),\n",
    "                                ds_hist=read_gcs_zarr(data_dict['fine']['downscaled']['historical']).sel(lat=-179.5, lon=-89.5),\n",
    "                                data_type='downscaled',\n",
    "                                variable=variable,\n",
    "                                units='days with tasmax >= 95F',\n",
    "                                years=years,\n",
    "                                robust=True,\n",
    "                                ssp='370',\n",
    "                                time_period='2080_2100',\n",
    "                                xr_func=xr_conditional_count)"
   ]
  },
  {
   "cell_type": "markdown",
   "metadata": {},
   "source": [
    "### Precip - dry days ###"
   ]
  },
  {
   "cell_type": "code",
   "execution_count": null,
   "metadata": {},
   "outputs": [],
   "source": [
    "if variable=='pr'\n",
    "    plot_diagnostic_climo_periods(read_gcs_zarr(data_dict['fine']['downscaled'][ssp]), \n",
    "                                  ssp, years, variable, basic_diag_type, 'downscaled', \n",
    "                                  units[variable], ds_hist=read_gcs_zarr(data_dict['fine']['downscaled']['historical']), \n",
    "                                  vmin=0, vmax=200, xr_func=xc_maximum_consecutive_dry_days)"
   ]
  },
  {
   "cell_type": "markdown",
   "metadata": {},
   "source": [
    "### Precip - accumulated ###"
   ]
  },
  {
   "cell_type": "code",
   "execution_count": null,
   "metadata": {},
   "outputs": [],
   "source": [
    "if variable=='pr'\n",
    "    plot_diagnostic_climo_periods(read_gcs_zarr(data_dict['fine']['downscaled'][ssp]), \n",
    "                                  ssp, years, variable, basic_diag_type, 'downscaled', \n",
    "                                  units[variable], ds_hist=read_gcs_zarr(data_dict['fine']['downscaled']['historical']), \n",
    "                                  vmin=0, vmax=200, xr_func=xc_maximum_consecutive_dry_days)"
   ]
  }
 ],
 "metadata": {
  "kernelspec": {
   "display_name": "Python 3 (ipykernel)",
   "language": "python",
   "name": "python3"
  },
  "language_info": {
   "codemirror_mode": {
    "name": "ipython",
    "version": 3
   },
   "file_extension": ".py",
   "mimetype": "text/x-python",
   "name": "python",
   "nbconvert_exporter": "python",
   "pygments_lexer": "ipython3",
   "version": "3.8.12"
  },
  "widgets": {
   "application/vnd.jupyter.widget-state+json": {
    "state": {
     "075486b9fba4451a9ba340908a53dbb4": {
      "model_module": "@jupyter-widgets/base",
      "model_module_version": "1.2.0",
      "model_name": "LayoutModel",
      "state": {}
     },
     "08ad4280da8c448a8948b2d47882779f": {
      "model_module": "@jupyter-widgets/base",
      "model_module_version": "1.2.0",
      "model_name": "LayoutModel",
      "state": {}
     },
     "09aeed03304c4471bfad8562acdb7a5c": {
      "model_module": "@jupyter-widgets/base",
      "model_module_version": "1.2.0",
      "model_name": "LayoutModel",
      "state": {}
     },
     "0a2d97d75d1948a7a13777fa78286056": {
      "model_module": "@jupyter-widgets/controls",
      "model_module_version": "1.5.0",
      "model_name": "ButtonModel",
      "state": {
       "description": "Adapt",
       "layout": "IPY_MODEL_ac815b9d0cc84e8db127e78504d06fe3",
       "style": "IPY_MODEL_fd9ba87b66004f01a2e65892aede5baf"
      }
     },
     "0ae37ef7085e4f50b2780b857b1bc81c": {
      "model_module": "@jupyter-widgets/base",
      "model_module_version": "1.2.0",
      "model_name": "LayoutModel",
      "state": {
       "width": "150px"
      }
     },
     "0b210e67855a40e093b520b83972818a": {
      "model_module": "@jupyter-widgets/base",
      "model_module_version": "1.2.0",
      "model_name": "LayoutModel",
      "state": {
       "min_width": "150px"
      }
     },
     "1259ce82a8274006b91d92ac256070d0": {
      "model_module": "@jupyter-widgets/controls",
      "model_module_version": "1.5.0",
      "model_name": "ButtonModel",
      "state": {
       "description": "Scale",
       "layout": "IPY_MODEL_0ae37ef7085e4f50b2780b857b1bc81c",
       "style": "IPY_MODEL_85b61ab85ae44601b40f13bfe1e4076a"
      }
     },
     "14320e9345044b0ab5a580468b7e0381": {
      "model_module": "@jupyter-widgets/controls",
      "model_module_version": "1.5.0",
      "model_name": "DescriptionStyleModel",
      "state": {
       "description_width": ""
      }
     },
     "166708ef043e48b189bcec46d9f748b1": {
      "model_module": "@jupyter-widgets/controls",
      "model_module_version": "1.5.0",
      "model_name": "ButtonModel",
      "state": {
       "description": "Scale",
       "layout": "IPY_MODEL_ac815b9d0cc84e8db127e78504d06fe3",
       "style": "IPY_MODEL_9bb75c846bad4588ac94accd4caae1ce"
      }
     },
     "1c32b47bbfe04ed5a2a972cb8bb55df0": {
      "model_module": "@jupyter-widgets/controls",
      "model_module_version": "1.5.0",
      "model_name": "DescriptionStyleModel",
      "state": {
       "description_width": ""
      }
     },
     "21808b151a77469990e7f5703ff566f2": {
      "model_module": "@jupyter-widgets/base",
      "model_module_version": "1.2.0",
      "model_name": "LayoutModel",
      "state": {
       "min_width": "500px"
      }
     },
     "23f0c25372834bd282dd796b21f0ea4e": {
      "model_module": "@jupyter-widgets/controls",
      "model_module_version": "1.5.0",
      "model_name": "AccordionModel",
      "state": {
       "_titles": {
        "0": "Manual Scaling",
        "1": "Adaptive Scaling"
       },
       "children": [
        "IPY_MODEL_8970c339bab2416c853698e722179c24",
        "IPY_MODEL_29810c212a004fb3bdc20f1fd38ca094"
       ],
       "layout": "IPY_MODEL_21808b151a77469990e7f5703ff566f2",
       "selected_index": null
      }
     },
     "29810c212a004fb3bdc20f1fd38ca094": {
      "model_module": "@jupyter-widgets/controls",
      "model_module_version": "1.5.0",
      "model_name": "HBoxModel",
      "state": {
       "children": [
        "IPY_MODEL_78762ce31e624a32ad323129b892aa1f",
        "IPY_MODEL_fd1df677fe5f458ba121ec8b69a1fb83",
        "IPY_MODEL_f1c841996cf84fdd8eab80e554bbfdf6"
       ],
       "layout": "IPY_MODEL_4d6f08408c6b437f81af0d332c13625c"
      }
     },
     "2fda90bc0d8b4b4caa1e006577de862f": {
      "model_module": "@jupyter-widgets/base",
      "model_module_version": "1.2.0",
      "model_name": "LayoutModel",
      "state": {}
     },
     "3744b193003140dd88550c88e2600b13": {
      "model_module": "@jupyter-widgets/controls",
      "model_module_version": "1.5.0",
      "model_name": "HBoxModel",
      "state": {
       "children": [
        "IPY_MODEL_5fcc82dc7eb44ce1863a0a8acea9bd79",
        "IPY_MODEL_23f0c25372834bd282dd796b21f0ea4e"
       ],
       "layout": "IPY_MODEL_bde56d5363c34afc9afb9c6812dd8c40"
      }
     },
     "3b0016fd90864249a0f88fd482fdcf60": {
      "model_module": "@jupyter-widgets/controls",
      "model_module_version": "1.5.0",
      "model_name": "HTMLModel",
      "state": {
       "layout": "IPY_MODEL_2fda90bc0d8b4b4caa1e006577de862f",
       "style": "IPY_MODEL_653fa4eb289b4f8ab0a16b12b9a1b6e7",
       "value": "<p><b>Dashboard: </b><a href=\"/services/dask-gateway/clusters/impactlab-hub.8ab07aa782ea4380934d7c0612ea41a6/status\" target=\"_blank\">/services/dask-gateway/clusters/impactlab-hub.8ab07aa782ea4380934d7c0612ea41a6/status</a></p>\n"
      }
     },
     "48d43ade41834fabbf3fe8a0a1301a8a": {
      "model_module": "@jupyter-widgets/controls",
      "model_module_version": "1.5.0",
      "model_name": "IntTextModel",
      "state": {
       "description": "Minimum",
       "layout": "IPY_MODEL_ac815b9d0cc84e8db127e78504d06fe3",
       "step": 1,
       "style": "IPY_MODEL_942427c05c614a329b3c077f68237877"
      }
     },
     "4d6f08408c6b437f81af0d332c13625c": {
      "model_module": "@jupyter-widgets/base",
      "model_module_version": "1.2.0",
      "model_name": "LayoutModel",
      "state": {}
     },
     "5589442cd8734c139f3ad880282ba96f": {
      "model_module": "@jupyter-widgets/controls",
      "model_module_version": "1.5.0",
      "model_name": "DescriptionStyleModel",
      "state": {
       "description_width": ""
      }
     },
     "5a4aee2c71ef42d09d56736eb53f93dd": {
      "model_module": "@jupyter-widgets/controls",
      "model_module_version": "1.5.0",
      "model_name": "DescriptionStyleModel",
      "state": {
       "description_width": ""
      }
     },
     "5afac19eb7844950bbbcb43539d34e56": {
      "model_module": "@jupyter-widgets/controls",
      "model_module_version": "1.5.0",
      "model_name": "HTMLModel",
      "state": {
       "layout": "IPY_MODEL_e94b13f26a5844ee871d8561e20bd7f7",
       "style": "IPY_MODEL_5a4aee2c71ef42d09d56736eb53f93dd",
       "value": "<h2>GatewayCluster</h2>"
      }
     },
     "5fcc82dc7eb44ce1863a0a8acea9bd79": {
      "model_module": "@jupyter-widgets/controls",
      "model_module_version": "1.5.0",
      "model_name": "HTMLModel",
      "state": {
       "layout": "IPY_MODEL_0b210e67855a40e093b520b83972818a",
       "style": "IPY_MODEL_7972b1a4de704beb9c95b18ad03593ba",
       "value": "\n<div>\n<style scoped>\n    .dataframe tbody tr th:only-of-type {\n        vertical-align: middle;\n    }\n\n    .dataframe tbody tr th {\n        vertical-align: top;\n    }\n\n    .dataframe thead th {\n        text-align: right;\n    }\n</style>\n<table style=\"text-align: right;\">\n    <tr><th>Workers</th> <td>0</td></tr>\n    <tr><th>Cores</th> <td>0</td></tr>\n    <tr><th>Memory</th> <td>0 B</td></tr>\n</table>\n</div>\n"
      }
     },
     "651da90754ab4526af3083b762be4f89": {
      "model_module": "@jupyter-widgets/controls",
      "model_module_version": "1.5.0",
      "model_name": "HTMLModel",
      "state": {
       "layout": "IPY_MODEL_8d7381bb04ac43a78ea0de2984ec7a0f",
       "style": "IPY_MODEL_d8241ba5c831430bbdafa4fdb26354ae",
       "value": "\n<div>\n<style scoped>\n    .dataframe tbody tr th:only-of-type {\n        vertical-align: middle;\n    }\n\n    .dataframe tbody tr th {\n        vertical-align: top;\n    }\n\n    .dataframe thead th {\n        text-align: right;\n    }\n</style>\n<table style=\"text-align: right;\">\n    <tr><th>Workers</th> <td>0</td></tr>\n    <tr><th>Cores</th> <td>0</td></tr>\n    <tr><th>Memory</th> <td>0 B</td></tr>\n</table>\n</div>\n"
      }
     },
     "653fa4eb289b4f8ab0a16b12b9a1b6e7": {
      "model_module": "@jupyter-widgets/controls",
      "model_module_version": "1.5.0",
      "model_name": "DescriptionStyleModel",
      "state": {
       "description_width": ""
      }
     },
     "65957ca6c95f4d15a84676313e61bfba": {
      "model_module": "@jupyter-widgets/controls",
      "model_module_version": "1.5.0",
      "model_name": "AccordionModel",
      "state": {
       "_titles": {
        "0": "Manual Scaling",
        "1": "Adaptive Scaling"
       },
       "children": [
        "IPY_MODEL_e1a1665b76a54b27b60d42c9a789e8a4",
        "IPY_MODEL_9f7d51d2d9c84de1b9a61591e9da58a6"
       ],
       "layout": "IPY_MODEL_7e6cdd099a8840c2b9d8df28f17abf3e",
       "selected_index": null
      }
     },
     "69a701555d0b44b9be1d5f6261cd3739": {
      "model_module": "@jupyter-widgets/base",
      "model_module_version": "1.2.0",
      "model_name": "LayoutModel",
      "state": {}
     },
     "6f5f4f1a5cc344998195d73e1574c4a7": {
      "model_module": "@jupyter-widgets/controls",
      "model_module_version": "1.5.0",
      "model_name": "IntTextModel",
      "state": {
       "description": "Workers",
       "layout": "IPY_MODEL_ac815b9d0cc84e8db127e78504d06fe3",
       "step": 1,
       "style": "IPY_MODEL_95cac7b2247d4ea78f5aeb1bfe4e7b96"
      }
     },
     "78762ce31e624a32ad323129b892aa1f": {
      "model_module": "@jupyter-widgets/controls",
      "model_module_version": "1.5.0",
      "model_name": "IntTextModel",
      "state": {
       "description": "Minimum",
       "layout": "IPY_MODEL_0ae37ef7085e4f50b2780b857b1bc81c",
       "step": 1,
       "style": "IPY_MODEL_14320e9345044b0ab5a580468b7e0381"
      }
     },
     "7972b1a4de704beb9c95b18ad03593ba": {
      "model_module": "@jupyter-widgets/controls",
      "model_module_version": "1.5.0",
      "model_name": "DescriptionStyleModel",
      "state": {
       "description_width": ""
      }
     },
     "7e6cdd099a8840c2b9d8df28f17abf3e": {
      "model_module": "@jupyter-widgets/base",
      "model_module_version": "1.2.0",
      "model_name": "LayoutModel",
      "state": {
       "min_width": "500px"
      }
     },
     "7f6bff842fb74519a0241739da8012d8": {
      "model_module": "@jupyter-widgets/controls",
      "model_module_version": "1.5.0",
      "model_name": "DescriptionStyleModel",
      "state": {
       "description_width": ""
      }
     },
     "85b61ab85ae44601b40f13bfe1e4076a": {
      "model_module": "@jupyter-widgets/controls",
      "model_module_version": "1.5.0",
      "model_name": "ButtonStyleModel",
      "state": {}
     },
     "8970c339bab2416c853698e722179c24": {
      "model_module": "@jupyter-widgets/controls",
      "model_module_version": "1.5.0",
      "model_name": "HBoxModel",
      "state": {
       "children": [
        "IPY_MODEL_b6474a1cfb8a443e8d16aee7fd7a301b",
        "IPY_MODEL_1259ce82a8274006b91d92ac256070d0"
       ],
       "layout": "IPY_MODEL_a006af19079a4e4ea7b4e49e8ed3c7b8"
      }
     },
     "8b4dc11453a64227b7489a97a92d088b": {
      "model_module": "@jupyter-widgets/base",
      "model_module_version": "1.2.0",
      "model_name": "LayoutModel",
      "state": {}
     },
     "8d7381bb04ac43a78ea0de2984ec7a0f": {
      "model_module": "@jupyter-widgets/base",
      "model_module_version": "1.2.0",
      "model_name": "LayoutModel",
      "state": {
       "min_width": "150px"
      }
     },
     "8dc1901d50d14a2b9a531e7ab390c5db": {
      "model_module": "@jupyter-widgets/controls",
      "model_module_version": "1.5.0",
      "model_name": "DescriptionStyleModel",
      "state": {
       "description_width": ""
      }
     },
     "942427c05c614a329b3c077f68237877": {
      "model_module": "@jupyter-widgets/controls",
      "model_module_version": "1.5.0",
      "model_name": "DescriptionStyleModel",
      "state": {
       "description_width": ""
      }
     },
     "95cac7b2247d4ea78f5aeb1bfe4e7b96": {
      "model_module": "@jupyter-widgets/controls",
      "model_module_version": "1.5.0",
      "model_name": "DescriptionStyleModel",
      "state": {
       "description_width": ""
      }
     },
     "999907be4fb34cb288bac1cacffc104a": {
      "model_module": "@jupyter-widgets/controls",
      "model_module_version": "1.5.0",
      "model_name": "ButtonStyleModel",
      "state": {}
     },
     "9bb75c846bad4588ac94accd4caae1ce": {
      "model_module": "@jupyter-widgets/controls",
      "model_module_version": "1.5.0",
      "model_name": "ButtonStyleModel",
      "state": {}
     },
     "9f7d51d2d9c84de1b9a61591e9da58a6": {
      "model_module": "@jupyter-widgets/controls",
      "model_module_version": "1.5.0",
      "model_name": "HBoxModel",
      "state": {
       "children": [
        "IPY_MODEL_48d43ade41834fabbf3fe8a0a1301a8a",
        "IPY_MODEL_fdc96f2b7d0b487b94e0c8a21687124e",
        "IPY_MODEL_0a2d97d75d1948a7a13777fa78286056"
       ],
       "layout": "IPY_MODEL_09aeed03304c4471bfad8562acdb7a5c"
      }
     },
     "9fcfcf988afd408a819680d550147733": {
      "model_module": "@jupyter-widgets/controls",
      "model_module_version": "1.5.0",
      "model_name": "HTMLModel",
      "state": {
       "layout": "IPY_MODEL_08ad4280da8c448a8948b2d47882779f",
       "style": "IPY_MODEL_fa8f3bb7f26a405a9b28f4013364aa3e",
       "value": "<h2>GatewayCluster</h2>"
      }
     },
     "a006af19079a4e4ea7b4e49e8ed3c7b8": {
      "model_module": "@jupyter-widgets/base",
      "model_module_version": "1.2.0",
      "model_name": "LayoutModel",
      "state": {}
     },
     "ac815b9d0cc84e8db127e78504d06fe3": {
      "model_module": "@jupyter-widgets/base",
      "model_module_version": "1.2.0",
      "model_name": "LayoutModel",
      "state": {
       "width": "150px"
      }
     },
     "b6474a1cfb8a443e8d16aee7fd7a301b": {
      "model_module": "@jupyter-widgets/controls",
      "model_module_version": "1.5.0",
      "model_name": "IntTextModel",
      "state": {
       "description": "Workers",
       "layout": "IPY_MODEL_0ae37ef7085e4f50b2780b857b1bc81c",
       "step": 1,
       "style": "IPY_MODEL_df68e6d73e4f42c68168cdb0d5b633d6"
      }
     },
     "bde56d5363c34afc9afb9c6812dd8c40": {
      "model_module": "@jupyter-widgets/base",
      "model_module_version": "1.2.0",
      "model_name": "LayoutModel",
      "state": {}
     },
     "c2b8bcd68dbb468eab74a909888493bc": {
      "model_module": "@jupyter-widgets/base",
      "model_module_version": "1.2.0",
      "model_name": "LayoutModel",
      "state": {}
     },
     "ca206b97288140b0b90c65f11ea096b8": {
      "model_module": "@jupyter-widgets/controls",
      "model_module_version": "1.5.0",
      "model_name": "HTMLModel",
      "state": {
       "layout": "IPY_MODEL_cc9a78605a9e4493a29dbbf550e07755",
       "style": "IPY_MODEL_5589442cd8734c139f3ad880282ba96f",
       "value": "<p><b>Name: </b>impactlab-hub.9ad85b0f37bb40d3a512549fb56ea2a2</p>"
      }
     },
     "cc9a78605a9e4493a29dbbf550e07755": {
      "model_module": "@jupyter-widgets/base",
      "model_module_version": "1.2.0",
      "model_name": "LayoutModel",
      "state": {}
     },
     "d8241ba5c831430bbdafa4fdb26354ae": {
      "model_module": "@jupyter-widgets/controls",
      "model_module_version": "1.5.0",
      "model_name": "DescriptionStyleModel",
      "state": {
       "description_width": ""
      }
     },
     "d8e49312bab5459888871d3bc6e73c16": {
      "model_module": "@jupyter-widgets/controls",
      "model_module_version": "1.5.0",
      "model_name": "VBoxModel",
      "state": {
       "children": [
        "IPY_MODEL_9fcfcf988afd408a819680d550147733",
        "IPY_MODEL_3744b193003140dd88550c88e2600b13",
        "IPY_MODEL_ca206b97288140b0b90c65f11ea096b8",
        "IPY_MODEL_ef59ebc637464e7b88f12ad8a76f0bec"
       ],
       "layout": "IPY_MODEL_8b4dc11453a64227b7489a97a92d088b"
      }
     },
     "ddd6ead4b62a4759bd4efec518fd030e": {
      "model_module": "@jupyter-widgets/base",
      "model_module_version": "1.2.0",
      "model_name": "LayoutModel",
      "state": {}
     },
     "df68e6d73e4f42c68168cdb0d5b633d6": {
      "model_module": "@jupyter-widgets/controls",
      "model_module_version": "1.5.0",
      "model_name": "DescriptionStyleModel",
      "state": {
       "description_width": ""
      }
     },
     "e1a1665b76a54b27b60d42c9a789e8a4": {
      "model_module": "@jupyter-widgets/controls",
      "model_module_version": "1.5.0",
      "model_name": "HBoxModel",
      "state": {
       "children": [
        "IPY_MODEL_6f5f4f1a5cc344998195d73e1574c4a7",
        "IPY_MODEL_166708ef043e48b189bcec46d9f748b1"
       ],
       "layout": "IPY_MODEL_c2b8bcd68dbb468eab74a909888493bc"
      }
     },
     "e94b13f26a5844ee871d8561e20bd7f7": {
      "model_module": "@jupyter-widgets/base",
      "model_module_version": "1.2.0",
      "model_name": "LayoutModel",
      "state": {}
     },
     "ef59ebc637464e7b88f12ad8a76f0bec": {
      "model_module": "@jupyter-widgets/controls",
      "model_module_version": "1.5.0",
      "model_name": "HTMLModel",
      "state": {
       "layout": "IPY_MODEL_69a701555d0b44b9be1d5f6261cd3739",
       "style": "IPY_MODEL_7f6bff842fb74519a0241739da8012d8",
       "value": "<p><b>Dashboard: </b><a href=\"/services/dask-gateway/clusters/impactlab-hub.9ad85b0f37bb40d3a512549fb56ea2a2/status\" target=\"_blank\">/services/dask-gateway/clusters/impactlab-hub.9ad85b0f37bb40d3a512549fb56ea2a2/status</a></p>\n"
      }
     },
     "f0323a37b180406eb2bf0cb3b8fd0b65": {
      "model_module": "@jupyter-widgets/controls",
      "model_module_version": "1.5.0",
      "model_name": "VBoxModel",
      "state": {
       "children": [
        "IPY_MODEL_5afac19eb7844950bbbcb43539d34e56",
        "IPY_MODEL_f9b8103cad2e49af8e2b94347385fa9e",
        "IPY_MODEL_fc394884869b43818372c5d6a3969bf1",
        "IPY_MODEL_3b0016fd90864249a0f88fd482fdcf60"
       ],
       "layout": "IPY_MODEL_f60aec1540ff46dc8cbe059d92e0d7b1"
      }
     },
     "f03310974aa841e8b6e9507e53601180": {
      "model_module": "@jupyter-widgets/controls",
      "model_module_version": "1.5.0",
      "model_name": "DescriptionStyleModel",
      "state": {
       "description_width": ""
      }
     },
     "f1c841996cf84fdd8eab80e554bbfdf6": {
      "model_module": "@jupyter-widgets/controls",
      "model_module_version": "1.5.0",
      "model_name": "ButtonModel",
      "state": {
       "description": "Adapt",
       "layout": "IPY_MODEL_0ae37ef7085e4f50b2780b857b1bc81c",
       "style": "IPY_MODEL_999907be4fb34cb288bac1cacffc104a"
      }
     },
     "f60aec1540ff46dc8cbe059d92e0d7b1": {
      "model_module": "@jupyter-widgets/base",
      "model_module_version": "1.2.0",
      "model_name": "LayoutModel",
      "state": {}
     },
     "f9b8103cad2e49af8e2b94347385fa9e": {
      "model_module": "@jupyter-widgets/controls",
      "model_module_version": "1.5.0",
      "model_name": "HBoxModel",
      "state": {
       "children": [
        "IPY_MODEL_651da90754ab4526af3083b762be4f89",
        "IPY_MODEL_65957ca6c95f4d15a84676313e61bfba"
       ],
       "layout": "IPY_MODEL_075486b9fba4451a9ba340908a53dbb4"
      }
     },
     "fa8f3bb7f26a405a9b28f4013364aa3e": {
      "model_module": "@jupyter-widgets/controls",
      "model_module_version": "1.5.0",
      "model_name": "DescriptionStyleModel",
      "state": {
       "description_width": ""
      }
     },
     "fc394884869b43818372c5d6a3969bf1": {
      "model_module": "@jupyter-widgets/controls",
      "model_module_version": "1.5.0",
      "model_name": "HTMLModel",
      "state": {
       "layout": "IPY_MODEL_ddd6ead4b62a4759bd4efec518fd030e",
       "style": "IPY_MODEL_f03310974aa841e8b6e9507e53601180",
       "value": "<p><b>Name: </b>impactlab-hub.8ab07aa782ea4380934d7c0612ea41a6</p>"
      }
     },
     "fd1df677fe5f458ba121ec8b69a1fb83": {
      "model_module": "@jupyter-widgets/controls",
      "model_module_version": "1.5.0",
      "model_name": "IntTextModel",
      "state": {
       "description": "Maximum",
       "layout": "IPY_MODEL_0ae37ef7085e4f50b2780b857b1bc81c",
       "step": 1,
       "style": "IPY_MODEL_1c32b47bbfe04ed5a2a972cb8bb55df0"
      }
     },
     "fd9ba87b66004f01a2e65892aede5baf": {
      "model_module": "@jupyter-widgets/controls",
      "model_module_version": "1.5.0",
      "model_name": "ButtonStyleModel",
      "state": {}
     },
     "fdc96f2b7d0b487b94e0c8a21687124e": {
      "model_module": "@jupyter-widgets/controls",
      "model_module_version": "1.5.0",
      "model_name": "IntTextModel",
      "state": {
       "description": "Maximum",
       "layout": "IPY_MODEL_ac815b9d0cc84e8db127e78504d06fe3",
       "step": 1,
       "style": "IPY_MODEL_8dc1901d50d14a2b9a531e7ab390c5db",
       "value": 160
      }
     }
    },
    "version_major": 2,
    "version_minor": 0
   }
  }
 },
 "nbformat": 4,
 "nbformat_minor": 4
}
