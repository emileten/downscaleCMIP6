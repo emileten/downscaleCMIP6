{
 "cells": [
  {
   "cell_type": "markdown",
   "metadata": {},
   "source": [
    "### Global Validation ###\n",
    "\n",
    "This notebook combines several validation notebooks: `global_validation_tasmax_v2.ipynb` and `global_validation_dtr_v2.ipynb` along with `check_aiqpd_downscaled_data.ipynb` to create a \"master\" global validation notebook. It also borrows validation code from the ERA-5 workflow, `validate_era5_hourlyORdaily_files.ipynb`. It is intended to be run with `papermill`. \n",
    "\n",
    "### Data Sources ###\n",
    "\n",
    "Coarse Resolution: \n",
    "- CMIP6 \n",
    "- Bias corrected data \n",
    "- ERA-5\n",
    "\n",
    "Fine Resolution: \n",
    "- Bias corrected data \n",
    "- Downscaled data \n",
    "- ERA-5 (fine resolution)\n",
    "- ERA-5 (coarse resolution resampled to fine resolution) \n",
    "\n",
    "### Types of Validation ### \n",
    "\n",
    "Basic: \n",
    "- maxes, means, mins  \n",
    "    - CMIP6, bias corrected and downscaled \n",
    "    - historical (1995-2014), 2020-2040, 2040-2060, 2060-2080, 2080-2100 \n",
    "- differences between historical and future time periods for bias corrected and downscaled\n",
    "- differences between bias corrected and downscaled data \n",
    "\n",
    "Variable-specific: \n",
    "- GMST\n",
    "- days over 95 (future-historical difference plots)\n",
    "- max # of consecutive dry days, highest precip amount over 5-day rolling window"
   ]
  },
  {
   "cell_type": "code",
   "execution_count": 1,
   "metadata": {},
   "outputs": [
    {
     "name": "stdout",
     "output_type": "stream",
     "text": [
      "Requirement already satisfied: xclim in /srv/conda/envs/notebook/lib/python3.8/site-packages (0.31.0)\n",
      "Requirement already satisfied: dask[array]>=2.6 in /srv/conda/envs/notebook/lib/python3.8/site-packages (from xclim) (2.30.0)\n",
      "Requirement already satisfied: xarray>=0.17 in /srv/conda/envs/notebook/lib/python3.8/site-packages (from xclim) (0.20.1)\n",
      "Requirement already satisfied: pandas>=0.23 in /srv/conda/envs/notebook/lib/python3.8/site-packages (from xclim) (1.1.5)\n",
      "Requirement already satisfied: Click in /srv/conda/envs/notebook/lib/python3.8/site-packages (from xclim) (7.1.2)\n",
      "Requirement already satisfied: scipy>=1.2 in /srv/conda/envs/notebook/lib/python3.8/site-packages (from xclim) (1.5.3)\n",
      "Requirement already satisfied: scikit-learn>=0.21.3 in /srv/conda/envs/notebook/lib/python3.8/site-packages (from xclim) (0.23.2)\n",
      "Requirement already satisfied: numba in /srv/conda/envs/notebook/lib/python3.8/site-packages (from xclim) (0.52.0)\n",
      "Requirement already satisfied: cftime>=1.4.1 in /srv/conda/envs/notebook/lib/python3.8/site-packages (from xclim) (1.5.1.1)\n",
      "Requirement already satisfied: pint>=0.9 in /srv/conda/envs/notebook/lib/python3.8/site-packages (from xclim) (0.16.1)\n",
      "Requirement already satisfied: boltons>=20.1 in /srv/conda/envs/notebook/lib/python3.8/site-packages (from xclim) (21.0.0)\n",
      "Requirement already satisfied: bottleneck~=1.3.1 in /srv/conda/envs/notebook/lib/python3.8/site-packages (from xclim) (1.3.2)\n",
      "Requirement already satisfied: pyyaml in /srv/conda/envs/notebook/lib/python3.8/site-packages (from xclim) (5.3.1)\n",
      "Requirement already satisfied: packaging>=20.0 in /srv/conda/envs/notebook/lib/python3.8/site-packages (from xclim) (20.8)\n",
      "Requirement already satisfied: jsonpickle in /srv/conda/envs/notebook/lib/python3.8/site-packages (from xclim) (2.0.0)\n",
      "Requirement already satisfied: numpy>=1.16 in /srv/conda/envs/notebook/lib/python3.8/site-packages (from xclim) (1.19.4)\n",
      "Requirement already satisfied: numpy>=1.16 in /srv/conda/envs/notebook/lib/python3.8/site-packages (from xclim) (1.19.4)\n",
      "Requirement already satisfied: numpy>=1.16 in /srv/conda/envs/notebook/lib/python3.8/site-packages (from xclim) (1.19.4)\n",
      "Requirement already satisfied: pyyaml in /srv/conda/envs/notebook/lib/python3.8/site-packages (from xclim) (5.3.1)\n",
      "Requirement already satisfied: toolz>=0.8.2 in /srv/conda/envs/notebook/lib/python3.8/site-packages (from dask[array]>=2.6->xclim) (0.11.1)\n",
      "Requirement already satisfied: numpy>=1.16 in /srv/conda/envs/notebook/lib/python3.8/site-packages (from xclim) (1.19.4)\n",
      "Requirement already satisfied: pyyaml in /srv/conda/envs/notebook/lib/python3.8/site-packages (from xclim) (5.3.1)\n",
      "Requirement already satisfied: setuptools in /srv/conda/envs/notebook/lib/python3.8/site-packages (from numba->xclim) (49.6.0.post20201009)\n",
      "Requirement already satisfied: numpy>=1.16 in /srv/conda/envs/notebook/lib/python3.8/site-packages (from xclim) (1.19.4)\n",
      "Requirement already satisfied: llvmlite<0.36,>=0.35.0 in /srv/conda/envs/notebook/lib/python3.8/site-packages (from numba->xclim) (0.35.0)\n",
      "Requirement already satisfied: pyparsing>=2.0.2 in /srv/conda/envs/notebook/lib/python3.8/site-packages (from packaging>=20.0->xclim) (2.4.7)\n",
      "Requirement already satisfied: python-dateutil>=2.7.3 in /srv/conda/envs/notebook/lib/python3.8/site-packages (from pandas>=0.23->xclim) (2.8.1)\n",
      "Requirement already satisfied: pytz>=2017.2 in /srv/conda/envs/notebook/lib/python3.8/site-packages (from pandas>=0.23->xclim) (2020.5)\n",
      "Requirement already satisfied: numpy>=1.16 in /srv/conda/envs/notebook/lib/python3.8/site-packages (from xclim) (1.19.4)\n",
      "Requirement already satisfied: packaging>=20.0 in /srv/conda/envs/notebook/lib/python3.8/site-packages (from xclim) (20.8)\n",
      "Requirement already satisfied: six>=1.5 in /srv/conda/envs/notebook/lib/python3.8/site-packages (from python-dateutil>=2.7.3->pandas>=0.23->xclim) (1.15.0)\n",
      "Requirement already satisfied: threadpoolctl>=2.0.0 in /srv/conda/envs/notebook/lib/python3.8/site-packages (from scikit-learn>=0.21.3->xclim) (2.1.0)\n",
      "Requirement already satisfied: joblib>=0.11 in /srv/conda/envs/notebook/lib/python3.8/site-packages (from scikit-learn>=0.21.3->xclim) (1.0.0)\n",
      "Requirement already satisfied: numpy>=1.16 in /srv/conda/envs/notebook/lib/python3.8/site-packages (from xclim) (1.19.4)\n",
      "Requirement already satisfied: scipy>=1.2 in /srv/conda/envs/notebook/lib/python3.8/site-packages (from xclim) (1.5.3)\n",
      "Requirement already satisfied: numpy>=1.16 in /srv/conda/envs/notebook/lib/python3.8/site-packages (from xclim) (1.19.4)\n",
      "Requirement already satisfied: numpy>=1.16 in /srv/conda/envs/notebook/lib/python3.8/site-packages (from xclim) (1.19.4)\n",
      "Requirement already satisfied: pandas>=0.23 in /srv/conda/envs/notebook/lib/python3.8/site-packages (from xclim) (1.1.5)\n"
     ]
    }
   ],
   "source": [
    "! pip install xclim # we don't have this package on compute.impactlab"
   ]
  },
  {
   "cell_type": "code",
   "execution_count": 2,
   "metadata": {},
   "outputs": [],
   "source": [
    "%matplotlib inline \n",
    "import xarray as xr\n",
    "import numpy as np\n",
    "import matplotlib.pyplot as plt\n",
    "from cartopy import config\n",
    "import cartopy.crs as ccrs\n",
    "import cartopy.feature as cfeature\n",
    "import os \n",
    "import gcsfs \n",
    "from matplotlib import cm\n",
    "import warnings \n",
    "\n",
    "from science_validation_manual import *"
   ]
  },
  {
   "cell_type": "code",
   "execution_count": 3,
   "metadata": {},
   "outputs": [],
   "source": [
    "import dask\n",
    "import dask.array as da\n",
    "import dask.distributed as dd\n",
    "import rhg_compute_tools.kubernetes as rhgk"
   ]
  },
  {
   "cell_type": "code",
   "execution_count": 4,
   "metadata": {},
   "outputs": [],
   "source": [
    "client, cluster = rhgk.get_standard_cluster()"
   ]
  },
  {
   "cell_type": "code",
   "execution_count": 6,
   "metadata": {},
   "outputs": [],
   "source": [
    "cluster.scale(4)"
   ]
  },
  {
   "cell_type": "code",
   "execution_count": 7,
   "metadata": {},
   "outputs": [
    {
     "data": {
      "application/vnd.jupyter.widget-view+json": {
       "model_id": "8cd311eb860f40b6829e02f295916ce8",
       "version_major": 2,
       "version_minor": 0
      },
      "text/plain": [
       "VBox(children=(HTML(value='<h2>GatewayCluster</h2>'), HBox(children=(HTML(value='\\n<div>\\n<style scoped>\\n    …"
      ]
     },
     "metadata": {},
     "output_type": "display_data"
    }
   ],
   "source": [
    "cluster"
   ]
  },
  {
   "cell_type": "markdown",
   "metadata": {},
   "source": [
    "### Set Validation Parameters ###"
   ]
  },
  {
   "cell_type": "code",
   "execution_count": 8,
   "metadata": {},
   "outputs": [],
   "source": [
    "from models_QC import QC_models_dict\n",
    "models_ID_dict = QC_models_dict()\n",
    "gcm = 'CAMS-CSM1-0'\n",
    "workflow = models_ID_dict[gcm]\n",
    "\n",
    "workflow_location = 'archived-workflows' \n",
    "variable = 'tasmax'\n",
    "ssp = 'ssp370' # ssp options: 'ssp126', 'ssp245', 'ssp370', 'ssp585'\n",
    "\n",
    "# variable options: 'tasmax', 'tasmin', 'dtr', 'pr'\n",
    "argo_token = ''"
   ]
  },
  {
   "cell_type": "code",
   "execution_count": 9,
   "metadata": {},
   "outputs": [],
   "source": [
    "manifest = get_manifest(workflow_identifier=workflow, auth_token=argo_token, workflow_location=workflow_location)"
   ]
  },
  {
   "cell_type": "code",
   "execution_count": 10,
   "metadata": {},
   "outputs": [],
   "source": [
    "data_dict = collect_paths(manifest, gcm, ssp, variable)"
   ]
  },
  {
   "cell_type": "code",
   "execution_count": 11,
   "metadata": {
    "tags": [
     "parameters"
    ]
   },
   "outputs": [],
   "source": [
    "# data output types for running validation \n",
    "cmip6 = True\n",
    "bias_corrected = True\n",
    "downscaled = True\n",
    "# projection time period options: '2020_2040', '2040_2060', '2060_2080', '2080_2100'\n",
    "projection_time_period = '2080_2100'\n",
    "\n",
    "# validation plot options\n",
    "basic_diagnostics = True\n",
    "\n",
    "# options: 'mean', 'max', 'min'\n",
    "basic_diag_type = 'mean'\n",
    "\n",
    "# historical paths are included in data_dict below (historical and ssp are separate model runs)\n",
    "historical = True\n",
    "\n",
    "gmst = True\n",
    "hot_days = True\n",
    "difference_plots = True\n",
    "\n",
    "# options: 'downscaled_minus_biascorrected' , 'change_from_historical'\n",
    "diff_type = 'change_from_historical'"
   ]
  },
  {
   "cell_type": "code",
   "execution_count": 12,
   "metadata": {},
   "outputs": [],
   "source": [
    "# we only plot gmst if validation variable is tasmax \n",
    "if variable != 'tasmax': \n",
    "    gmst = False\n",
    "    hot_days = False\n",
    "    warnings.warn(\"gmst plotting option changed to False since validation variable is not tasmax\")"
   ]
  },
  {
   "cell_type": "markdown",
   "metadata": {
    "tags": []
   },
   "source": [
    "### other data inputs ### "
   ]
  },
  {
   "cell_type": "code",
   "execution_count": 13,
   "metadata": {},
   "outputs": [],
   "source": [
    "units = {'tasmax': 'K', 'tasmin': 'K', 'dtr': 'K', 'pr': 'mm'}\n",
    "if historical:\n",
    "    years = {'hist': {'start_yr': '1995', 'end_yr': '2014'}, \n",
    "                  '2020_2040': {'start_yr': '2020', 'end_yr': '2040'}, \n",
    "                  '2040_2060': {'start_yr': '2040', 'end_yr': '2060'}, \n",
    "                  '2060_2080': {'start_yr': '2060', 'end_yr': '2080'}, \n",
    "                  '2080_2100': {'start_yr': '2080', 'end_yr': '2100'}}\n",
    "else:\n",
    "    years = {'2020_2040': {'start_yr': '2020', 'end_yr': '2040'}, \n",
    "              '2040_2060': {'start_yr': '2040', 'end_yr': '2060'}, \n",
    "              '2060_2080': {'start_yr': '2060', 'end_yr': '2080'}, \n",
    "              '2080_2100': {'start_yr': '2080', 'end_yr': '2100'}}\n",
    "years_test = {'hist': {'start_yr': '1995', 'end_yr': '2014'}, \n",
    "              '2020_2040': {'start_yr': '2020', 'end_yr': '2040'}, \n",
    "              '2040_2060': {'start_yr': '2040', 'end_yr': '2060'}}"
   ]
  },
  {
   "cell_type": "markdown",
   "metadata": {},
   "source": [
    "### Validation ### "
   ]
  },
  {
   "cell_type": "markdown",
   "metadata": {},
   "source": [
    "### basic diagnostic plots: means, maxes, mins ### "
   ]
  },
  {
   "cell_type": "code",
   "execution_count": 14,
   "metadata": {},
   "outputs": [
    {
     "ename": "KilledWorker",
     "evalue": "('open_dataset-f66b653b405c8dc1a2a0a06adcb4e537tasmax-56bafacb4a043c65616d3997858f7166', <Worker 'tls://10.23.159.2:43865', name: dask-worker-abfb2306efb9425d870745c37c1355fb-4cn4j, memory: 0, processing: 1>)",
     "output_type": "error",
     "traceback": [
      "\u001b[0;31m---------------------------------------------------------------------------\u001b[0m",
      "\u001b[0;31mKilledWorker\u001b[0m                              Traceback (most recent call last)",
      "\u001b[0;32m<ipython-input-14-46c013dd4749>\u001b[0m in \u001b[0;36m<module>\u001b[0;34m\u001b[0m\n\u001b[1;32m      1\u001b[0m \u001b[0;32mif\u001b[0m \u001b[0mcmip6\u001b[0m \u001b[0;32mand\u001b[0m \u001b[0mbasic_diagnostics\u001b[0m\u001b[0;34m:\u001b[0m\u001b[0;34m\u001b[0m\u001b[0;34m\u001b[0m\u001b[0m\n\u001b[1;32m      2\u001b[0m     \u001b[0;32mif\u001b[0m \u001b[0mhistorical\u001b[0m\u001b[0;34m:\u001b[0m\u001b[0;34m\u001b[0m\u001b[0;34m\u001b[0m\u001b[0m\n\u001b[0;32m----> 3\u001b[0;31m         plot_diagnostic_climo_periods(read_gcs_zarr(data_dict['coarse']['cmip6'][ssp]), \n\u001b[0m\u001b[1;32m      4\u001b[0m                                       \u001b[0mssp\u001b[0m\u001b[0;34m,\u001b[0m \u001b[0myears\u001b[0m\u001b[0;34m,\u001b[0m \u001b[0mvariable\u001b[0m\u001b[0;34m,\u001b[0m \u001b[0mbasic_diag_type\u001b[0m\u001b[0;34m,\u001b[0m \u001b[0;34m'cmip6'\u001b[0m\u001b[0;34m,\u001b[0m\u001b[0;34m\u001b[0m\u001b[0;34m\u001b[0m\u001b[0m\n\u001b[1;32m      5\u001b[0m                                       \u001b[0munits\u001b[0m\u001b[0;34m[\u001b[0m\u001b[0mvariable\u001b[0m\u001b[0;34m]\u001b[0m\u001b[0;34m,\u001b[0m \u001b[0mds_hist\u001b[0m\u001b[0;34m=\u001b[0m\u001b[0mread_gcs_zarr\u001b[0m\u001b[0;34m(\u001b[0m\u001b[0mdata_dict\u001b[0m\u001b[0;34m[\u001b[0m\u001b[0;34m'coarse'\u001b[0m\u001b[0;34m]\u001b[0m\u001b[0;34m[\u001b[0m\u001b[0;34m'cmip6'\u001b[0m\u001b[0;34m]\u001b[0m\u001b[0;34m[\u001b[0m\u001b[0;34m'historical'\u001b[0m\u001b[0;34m]\u001b[0m\u001b[0;34m)\u001b[0m\u001b[0;34m,\u001b[0m\u001b[0;34m\u001b[0m\u001b[0;34m\u001b[0m\u001b[0m\n",
      "\u001b[0;32m~/repositories/downscaleCMIP6/notebooks/downscaling_pipeline/science_validation_manual.py\u001b[0m in \u001b[0;36mplot_diagnostic_climo_periods\u001b[0;34m(ds_future, ssp, years, variable, metric, data_type, units, ds_hist, vmin, vmax, transform, xr_func)\u001b[0m\n\u001b[1;32m     43\u001b[0m \u001b[0;34m\u001b[0m\u001b[0m\n\u001b[1;32m     44\u001b[0m         \u001b[0;32mif\u001b[0m \u001b[0mmetric\u001b[0m \u001b[0;34m==\u001b[0m \u001b[0;34m'mean'\u001b[0m\u001b[0;34m:\u001b[0m\u001b[0;34m\u001b[0m\u001b[0;34m\u001b[0m\u001b[0m\n\u001b[0;32m---> 45\u001b[0;31m             \u001b[0mdata\u001b[0m \u001b[0;34m=\u001b[0m \u001b[0mda\u001b[0m\u001b[0;34m.\u001b[0m\u001b[0mmean\u001b[0m\u001b[0;34m(\u001b[0m\u001b[0mdim\u001b[0m\u001b[0;34m=\u001b[0m\u001b[0;34m'time'\u001b[0m\u001b[0;34m)\u001b[0m\u001b[0;34m.\u001b[0m\u001b[0mload\u001b[0m\u001b[0;34m(\u001b[0m\u001b[0;34m)\u001b[0m\u001b[0;34m\u001b[0m\u001b[0;34m\u001b[0m\u001b[0m\n\u001b[0m\u001b[1;32m     46\u001b[0m         \u001b[0;32melif\u001b[0m \u001b[0mmetric\u001b[0m \u001b[0;34m==\u001b[0m \u001b[0;34m'max'\u001b[0m\u001b[0;34m:\u001b[0m\u001b[0;34m\u001b[0m\u001b[0;34m\u001b[0m\u001b[0m\n\u001b[1;32m     47\u001b[0m             \u001b[0mdata\u001b[0m \u001b[0;34m=\u001b[0m \u001b[0mda\u001b[0m\u001b[0;34m.\u001b[0m\u001b[0mmax\u001b[0m\u001b[0;34m(\u001b[0m\u001b[0mdim\u001b[0m\u001b[0;34m=\u001b[0m\u001b[0;34m'time'\u001b[0m\u001b[0;34m)\u001b[0m\u001b[0;34m.\u001b[0m\u001b[0mload\u001b[0m\u001b[0;34m(\u001b[0m\u001b[0;34m)\u001b[0m\u001b[0;34m\u001b[0m\u001b[0;34m\u001b[0m\u001b[0m\n",
      "\u001b[0;32m/srv/conda/envs/notebook/lib/python3.8/site-packages/xarray/core/dataarray.py\u001b[0m in \u001b[0;36mload\u001b[0;34m(self, **kwargs)\u001b[0m\n\u001b[1;32m    923\u001b[0m         \u001b[0mdask\u001b[0m\u001b[0;34m.\u001b[0m\u001b[0mcompute\u001b[0m\u001b[0;34m\u001b[0m\u001b[0;34m\u001b[0m\u001b[0m\n\u001b[1;32m    924\u001b[0m         \"\"\"\n\u001b[0;32m--> 925\u001b[0;31m         \u001b[0mds\u001b[0m \u001b[0;34m=\u001b[0m \u001b[0mself\u001b[0m\u001b[0;34m.\u001b[0m\u001b[0m_to_temp_dataset\u001b[0m\u001b[0;34m(\u001b[0m\u001b[0;34m)\u001b[0m\u001b[0;34m.\u001b[0m\u001b[0mload\u001b[0m\u001b[0;34m(\u001b[0m\u001b[0;34m**\u001b[0m\u001b[0mkwargs\u001b[0m\u001b[0;34m)\u001b[0m\u001b[0;34m\u001b[0m\u001b[0;34m\u001b[0m\u001b[0m\n\u001b[0m\u001b[1;32m    926\u001b[0m         \u001b[0mnew\u001b[0m \u001b[0;34m=\u001b[0m \u001b[0mself\u001b[0m\u001b[0;34m.\u001b[0m\u001b[0m_from_temp_dataset\u001b[0m\u001b[0;34m(\u001b[0m\u001b[0mds\u001b[0m\u001b[0;34m)\u001b[0m\u001b[0;34m\u001b[0m\u001b[0;34m\u001b[0m\u001b[0m\n\u001b[1;32m    927\u001b[0m         \u001b[0mself\u001b[0m\u001b[0;34m.\u001b[0m\u001b[0m_variable\u001b[0m \u001b[0;34m=\u001b[0m \u001b[0mnew\u001b[0m\u001b[0;34m.\u001b[0m\u001b[0m_variable\u001b[0m\u001b[0;34m\u001b[0m\u001b[0;34m\u001b[0m\u001b[0m\n",
      "\u001b[0;32m/srv/conda/envs/notebook/lib/python3.8/site-packages/xarray/core/dataset.py\u001b[0m in \u001b[0;36mload\u001b[0;34m(self, **kwargs)\u001b[0m\n\u001b[1;32m    860\u001b[0m \u001b[0;34m\u001b[0m\u001b[0m\n\u001b[1;32m    861\u001b[0m             \u001b[0;31m# evaluate all the dask arrays simultaneously\u001b[0m\u001b[0;34m\u001b[0m\u001b[0;34m\u001b[0m\u001b[0;34m\u001b[0m\u001b[0m\n\u001b[0;32m--> 862\u001b[0;31m             \u001b[0mevaluated_data\u001b[0m \u001b[0;34m=\u001b[0m \u001b[0mda\u001b[0m\u001b[0;34m.\u001b[0m\u001b[0mcompute\u001b[0m\u001b[0;34m(\u001b[0m\u001b[0;34m*\u001b[0m\u001b[0mlazy_data\u001b[0m\u001b[0;34m.\u001b[0m\u001b[0mvalues\u001b[0m\u001b[0;34m(\u001b[0m\u001b[0;34m)\u001b[0m\u001b[0;34m,\u001b[0m \u001b[0;34m**\u001b[0m\u001b[0mkwargs\u001b[0m\u001b[0;34m)\u001b[0m\u001b[0;34m\u001b[0m\u001b[0;34m\u001b[0m\u001b[0m\n\u001b[0m\u001b[1;32m    863\u001b[0m \u001b[0;34m\u001b[0m\u001b[0m\n\u001b[1;32m    864\u001b[0m             \u001b[0;32mfor\u001b[0m \u001b[0mk\u001b[0m\u001b[0;34m,\u001b[0m \u001b[0mdata\u001b[0m \u001b[0;32min\u001b[0m \u001b[0mzip\u001b[0m\u001b[0;34m(\u001b[0m\u001b[0mlazy_data\u001b[0m\u001b[0;34m,\u001b[0m \u001b[0mevaluated_data\u001b[0m\u001b[0;34m)\u001b[0m\u001b[0;34m:\u001b[0m\u001b[0;34m\u001b[0m\u001b[0;34m\u001b[0m\u001b[0m\n",
      "\u001b[0;32m/srv/conda/envs/notebook/lib/python3.8/site-packages/dask/base.py\u001b[0m in \u001b[0;36mcompute\u001b[0;34m(*args, **kwargs)\u001b[0m\n\u001b[1;32m    450\u001b[0m         \u001b[0mpostcomputes\u001b[0m\u001b[0;34m.\u001b[0m\u001b[0mappend\u001b[0m\u001b[0;34m(\u001b[0m\u001b[0mx\u001b[0m\u001b[0;34m.\u001b[0m\u001b[0m__dask_postcompute__\u001b[0m\u001b[0;34m(\u001b[0m\u001b[0;34m)\u001b[0m\u001b[0;34m)\u001b[0m\u001b[0;34m\u001b[0m\u001b[0;34m\u001b[0m\u001b[0m\n\u001b[1;32m    451\u001b[0m \u001b[0;34m\u001b[0m\u001b[0m\n\u001b[0;32m--> 452\u001b[0;31m     \u001b[0mresults\u001b[0m \u001b[0;34m=\u001b[0m \u001b[0mschedule\u001b[0m\u001b[0;34m(\u001b[0m\u001b[0mdsk\u001b[0m\u001b[0;34m,\u001b[0m \u001b[0mkeys\u001b[0m\u001b[0;34m,\u001b[0m \u001b[0;34m**\u001b[0m\u001b[0mkwargs\u001b[0m\u001b[0;34m)\u001b[0m\u001b[0;34m\u001b[0m\u001b[0;34m\u001b[0m\u001b[0m\n\u001b[0m\u001b[1;32m    453\u001b[0m     \u001b[0;32mreturn\u001b[0m \u001b[0mrepack\u001b[0m\u001b[0;34m(\u001b[0m\u001b[0;34m[\u001b[0m\u001b[0mf\u001b[0m\u001b[0;34m(\u001b[0m\u001b[0mr\u001b[0m\u001b[0;34m,\u001b[0m \u001b[0;34m*\u001b[0m\u001b[0ma\u001b[0m\u001b[0;34m)\u001b[0m \u001b[0;32mfor\u001b[0m \u001b[0mr\u001b[0m\u001b[0;34m,\u001b[0m \u001b[0;34m(\u001b[0m\u001b[0mf\u001b[0m\u001b[0;34m,\u001b[0m \u001b[0ma\u001b[0m\u001b[0;34m)\u001b[0m \u001b[0;32min\u001b[0m \u001b[0mzip\u001b[0m\u001b[0;34m(\u001b[0m\u001b[0mresults\u001b[0m\u001b[0;34m,\u001b[0m \u001b[0mpostcomputes\u001b[0m\u001b[0;34m)\u001b[0m\u001b[0;34m]\u001b[0m\u001b[0;34m)\u001b[0m\u001b[0;34m\u001b[0m\u001b[0;34m\u001b[0m\u001b[0m\n\u001b[1;32m    454\u001b[0m \u001b[0;34m\u001b[0m\u001b[0m\n",
      "\u001b[0;32m/srv/conda/envs/notebook/lib/python3.8/site-packages/distributed/client.py\u001b[0m in \u001b[0;36mget\u001b[0;34m(self, dsk, keys, restrictions, loose_restrictions, resources, sync, asynchronous, direct, retries, priority, fifo_timeout, actors, **kwargs)\u001b[0m\n\u001b[1;32m   2723\u001b[0m                     \u001b[0mshould_rejoin\u001b[0m \u001b[0;34m=\u001b[0m \u001b[0;32mFalse\u001b[0m\u001b[0;34m\u001b[0m\u001b[0;34m\u001b[0m\u001b[0m\n\u001b[1;32m   2724\u001b[0m             \u001b[0;32mtry\u001b[0m\u001b[0;34m:\u001b[0m\u001b[0;34m\u001b[0m\u001b[0;34m\u001b[0m\u001b[0m\n\u001b[0;32m-> 2725\u001b[0;31m                 \u001b[0mresults\u001b[0m \u001b[0;34m=\u001b[0m \u001b[0mself\u001b[0m\u001b[0;34m.\u001b[0m\u001b[0mgather\u001b[0m\u001b[0;34m(\u001b[0m\u001b[0mpacked\u001b[0m\u001b[0;34m,\u001b[0m \u001b[0masynchronous\u001b[0m\u001b[0;34m=\u001b[0m\u001b[0masynchronous\u001b[0m\u001b[0;34m,\u001b[0m \u001b[0mdirect\u001b[0m\u001b[0;34m=\u001b[0m\u001b[0mdirect\u001b[0m\u001b[0;34m)\u001b[0m\u001b[0;34m\u001b[0m\u001b[0;34m\u001b[0m\u001b[0m\n\u001b[0m\u001b[1;32m   2726\u001b[0m             \u001b[0;32mfinally\u001b[0m\u001b[0;34m:\u001b[0m\u001b[0;34m\u001b[0m\u001b[0;34m\u001b[0m\u001b[0m\n\u001b[1;32m   2727\u001b[0m                 \u001b[0;32mfor\u001b[0m \u001b[0mf\u001b[0m \u001b[0;32min\u001b[0m \u001b[0mfutures\u001b[0m\u001b[0;34m.\u001b[0m\u001b[0mvalues\u001b[0m\u001b[0;34m(\u001b[0m\u001b[0;34m)\u001b[0m\u001b[0;34m:\u001b[0m\u001b[0;34m\u001b[0m\u001b[0;34m\u001b[0m\u001b[0m\n",
      "\u001b[0;32m/srv/conda/envs/notebook/lib/python3.8/site-packages/distributed/client.py\u001b[0m in \u001b[0;36mgather\u001b[0;34m(self, futures, errors, direct, asynchronous)\u001b[0m\n\u001b[1;32m   1984\u001b[0m             \u001b[0;32melse\u001b[0m\u001b[0;34m:\u001b[0m\u001b[0;34m\u001b[0m\u001b[0;34m\u001b[0m\u001b[0m\n\u001b[1;32m   1985\u001b[0m                 \u001b[0mlocal_worker\u001b[0m \u001b[0;34m=\u001b[0m \u001b[0;32mNone\u001b[0m\u001b[0;34m\u001b[0m\u001b[0;34m\u001b[0m\u001b[0m\n\u001b[0;32m-> 1986\u001b[0;31m             return self.sync(\n\u001b[0m\u001b[1;32m   1987\u001b[0m                 \u001b[0mself\u001b[0m\u001b[0;34m.\u001b[0m\u001b[0m_gather\u001b[0m\u001b[0;34m,\u001b[0m\u001b[0;34m\u001b[0m\u001b[0;34m\u001b[0m\u001b[0m\n\u001b[1;32m   1988\u001b[0m                 \u001b[0mfutures\u001b[0m\u001b[0;34m,\u001b[0m\u001b[0;34m\u001b[0m\u001b[0;34m\u001b[0m\u001b[0m\n",
      "\u001b[0;32m/srv/conda/envs/notebook/lib/python3.8/site-packages/distributed/client.py\u001b[0m in \u001b[0;36msync\u001b[0;34m(self, func, asynchronous, callback_timeout, *args, **kwargs)\u001b[0m\n\u001b[1;32m    830\u001b[0m             \u001b[0;32mreturn\u001b[0m \u001b[0mfuture\u001b[0m\u001b[0;34m\u001b[0m\u001b[0;34m\u001b[0m\u001b[0m\n\u001b[1;32m    831\u001b[0m         \u001b[0;32melse\u001b[0m\u001b[0;34m:\u001b[0m\u001b[0;34m\u001b[0m\u001b[0;34m\u001b[0m\u001b[0m\n\u001b[0;32m--> 832\u001b[0;31m             return sync(\n\u001b[0m\u001b[1;32m    833\u001b[0m                 \u001b[0mself\u001b[0m\u001b[0;34m.\u001b[0m\u001b[0mloop\u001b[0m\u001b[0;34m,\u001b[0m \u001b[0mfunc\u001b[0m\u001b[0;34m,\u001b[0m \u001b[0;34m*\u001b[0m\u001b[0margs\u001b[0m\u001b[0;34m,\u001b[0m \u001b[0mcallback_timeout\u001b[0m\u001b[0;34m=\u001b[0m\u001b[0mcallback_timeout\u001b[0m\u001b[0;34m,\u001b[0m \u001b[0;34m**\u001b[0m\u001b[0mkwargs\u001b[0m\u001b[0;34m\u001b[0m\u001b[0;34m\u001b[0m\u001b[0m\n\u001b[1;32m    834\u001b[0m             )\n",
      "\u001b[0;32m/srv/conda/envs/notebook/lib/python3.8/site-packages/distributed/utils.py\u001b[0m in \u001b[0;36msync\u001b[0;34m(loop, func, callback_timeout, *args, **kwargs)\u001b[0m\n\u001b[1;32m    338\u001b[0m     \u001b[0;32mif\u001b[0m \u001b[0merror\u001b[0m\u001b[0;34m[\u001b[0m\u001b[0;36m0\u001b[0m\u001b[0;34m]\u001b[0m\u001b[0;34m:\u001b[0m\u001b[0;34m\u001b[0m\u001b[0;34m\u001b[0m\u001b[0m\n\u001b[1;32m    339\u001b[0m         \u001b[0mtyp\u001b[0m\u001b[0;34m,\u001b[0m \u001b[0mexc\u001b[0m\u001b[0;34m,\u001b[0m \u001b[0mtb\u001b[0m \u001b[0;34m=\u001b[0m \u001b[0merror\u001b[0m\u001b[0;34m[\u001b[0m\u001b[0;36m0\u001b[0m\u001b[0;34m]\u001b[0m\u001b[0;34m\u001b[0m\u001b[0;34m\u001b[0m\u001b[0m\n\u001b[0;32m--> 340\u001b[0;31m         \u001b[0;32mraise\u001b[0m \u001b[0mexc\u001b[0m\u001b[0;34m.\u001b[0m\u001b[0mwith_traceback\u001b[0m\u001b[0;34m(\u001b[0m\u001b[0mtb\u001b[0m\u001b[0;34m)\u001b[0m\u001b[0;34m\u001b[0m\u001b[0;34m\u001b[0m\u001b[0m\n\u001b[0m\u001b[1;32m    341\u001b[0m     \u001b[0;32melse\u001b[0m\u001b[0;34m:\u001b[0m\u001b[0;34m\u001b[0m\u001b[0;34m\u001b[0m\u001b[0m\n\u001b[1;32m    342\u001b[0m         \u001b[0;32mreturn\u001b[0m \u001b[0mresult\u001b[0m\u001b[0;34m[\u001b[0m\u001b[0;36m0\u001b[0m\u001b[0;34m]\u001b[0m\u001b[0;34m\u001b[0m\u001b[0;34m\u001b[0m\u001b[0m\n",
      "\u001b[0;32m/srv/conda/envs/notebook/lib/python3.8/site-packages/distributed/utils.py\u001b[0m in \u001b[0;36mf\u001b[0;34m()\u001b[0m\n\u001b[1;32m    322\u001b[0m             \u001b[0;32mif\u001b[0m \u001b[0mcallback_timeout\u001b[0m \u001b[0;32mis\u001b[0m \u001b[0;32mnot\u001b[0m \u001b[0;32mNone\u001b[0m\u001b[0;34m:\u001b[0m\u001b[0;34m\u001b[0m\u001b[0;34m\u001b[0m\u001b[0m\n\u001b[1;32m    323\u001b[0m                 \u001b[0mfuture\u001b[0m \u001b[0;34m=\u001b[0m \u001b[0masyncio\u001b[0m\u001b[0;34m.\u001b[0m\u001b[0mwait_for\u001b[0m\u001b[0;34m(\u001b[0m\u001b[0mfuture\u001b[0m\u001b[0;34m,\u001b[0m \u001b[0mcallback_timeout\u001b[0m\u001b[0;34m)\u001b[0m\u001b[0;34m\u001b[0m\u001b[0;34m\u001b[0m\u001b[0m\n\u001b[0;32m--> 324\u001b[0;31m             \u001b[0mresult\u001b[0m\u001b[0;34m[\u001b[0m\u001b[0;36m0\u001b[0m\u001b[0;34m]\u001b[0m \u001b[0;34m=\u001b[0m \u001b[0;32myield\u001b[0m \u001b[0mfuture\u001b[0m\u001b[0;34m\u001b[0m\u001b[0;34m\u001b[0m\u001b[0m\n\u001b[0m\u001b[1;32m    325\u001b[0m         \u001b[0;32mexcept\u001b[0m \u001b[0mException\u001b[0m \u001b[0;32mas\u001b[0m \u001b[0mexc\u001b[0m\u001b[0;34m:\u001b[0m\u001b[0;34m\u001b[0m\u001b[0;34m\u001b[0m\u001b[0m\n\u001b[1;32m    326\u001b[0m             \u001b[0merror\u001b[0m\u001b[0;34m[\u001b[0m\u001b[0;36m0\u001b[0m\u001b[0;34m]\u001b[0m \u001b[0;34m=\u001b[0m \u001b[0msys\u001b[0m\u001b[0;34m.\u001b[0m\u001b[0mexc_info\u001b[0m\u001b[0;34m(\u001b[0m\u001b[0;34m)\u001b[0m\u001b[0;34m\u001b[0m\u001b[0;34m\u001b[0m\u001b[0m\n",
      "\u001b[0;32m/srv/conda/envs/notebook/lib/python3.8/site-packages/tornado/gen.py\u001b[0m in \u001b[0;36mrun\u001b[0;34m(self)\u001b[0m\n\u001b[1;32m    760\u001b[0m \u001b[0;34m\u001b[0m\u001b[0m\n\u001b[1;32m    761\u001b[0m                     \u001b[0;32mtry\u001b[0m\u001b[0;34m:\u001b[0m\u001b[0;34m\u001b[0m\u001b[0;34m\u001b[0m\u001b[0m\n\u001b[0;32m--> 762\u001b[0;31m                         \u001b[0mvalue\u001b[0m \u001b[0;34m=\u001b[0m \u001b[0mfuture\u001b[0m\u001b[0;34m.\u001b[0m\u001b[0mresult\u001b[0m\u001b[0;34m(\u001b[0m\u001b[0;34m)\u001b[0m\u001b[0;34m\u001b[0m\u001b[0;34m\u001b[0m\u001b[0m\n\u001b[0m\u001b[1;32m    763\u001b[0m                     \u001b[0;32mexcept\u001b[0m \u001b[0mException\u001b[0m\u001b[0;34m:\u001b[0m\u001b[0;34m\u001b[0m\u001b[0;34m\u001b[0m\u001b[0m\n\u001b[1;32m    764\u001b[0m                         \u001b[0mexc_info\u001b[0m \u001b[0;34m=\u001b[0m \u001b[0msys\u001b[0m\u001b[0;34m.\u001b[0m\u001b[0mexc_info\u001b[0m\u001b[0;34m(\u001b[0m\u001b[0;34m)\u001b[0m\u001b[0;34m\u001b[0m\u001b[0;34m\u001b[0m\u001b[0m\n",
      "\u001b[0;32m/srv/conda/envs/notebook/lib/python3.8/site-packages/distributed/client.py\u001b[0m in \u001b[0;36m_gather\u001b[0;34m(self, futures, errors, direct, local_worker)\u001b[0m\n\u001b[1;32m   1849\u001b[0m                             \u001b[0mexc\u001b[0m \u001b[0;34m=\u001b[0m \u001b[0mCancelledError\u001b[0m\u001b[0;34m(\u001b[0m\u001b[0mkey\u001b[0m\u001b[0;34m)\u001b[0m\u001b[0;34m\u001b[0m\u001b[0;34m\u001b[0m\u001b[0m\n\u001b[1;32m   1850\u001b[0m                         \u001b[0;32melse\u001b[0m\u001b[0;34m:\u001b[0m\u001b[0;34m\u001b[0m\u001b[0;34m\u001b[0m\u001b[0m\n\u001b[0;32m-> 1851\u001b[0;31m                             \u001b[0;32mraise\u001b[0m \u001b[0mexception\u001b[0m\u001b[0;34m.\u001b[0m\u001b[0mwith_traceback\u001b[0m\u001b[0;34m(\u001b[0m\u001b[0mtraceback\u001b[0m\u001b[0;34m)\u001b[0m\u001b[0;34m\u001b[0m\u001b[0;34m\u001b[0m\u001b[0m\n\u001b[0m\u001b[1;32m   1852\u001b[0m                         \u001b[0;32mraise\u001b[0m \u001b[0mexc\u001b[0m\u001b[0;34m\u001b[0m\u001b[0;34m\u001b[0m\u001b[0m\n\u001b[1;32m   1853\u001b[0m                     \u001b[0;32mif\u001b[0m \u001b[0merrors\u001b[0m \u001b[0;34m==\u001b[0m \u001b[0;34m\"skip\"\u001b[0m\u001b[0;34m:\u001b[0m\u001b[0;34m\u001b[0m\u001b[0;34m\u001b[0m\u001b[0m\n",
      "\u001b[0;31mKilledWorker\u001b[0m: ('open_dataset-f66b653b405c8dc1a2a0a06adcb4e537tasmax-56bafacb4a043c65616d3997858f7166', <Worker 'tls://10.23.159.2:43865', name: dask-worker-abfb2306efb9425d870745c37c1355fb-4cn4j, memory: 0, processing: 1>)"
     ]
    },
    {
     "data": {
      "image/png": "[encoded data removed]",
      "text/plain": [
       "<Figure size 1440x432 with 5 Axes>"
      ]
     },
     "metadata": {
      "needs_background": "light"
     },
     "output_type": "display_data"
    }
   ],
   "source": [
    "if cmip6 and basic_diagnostics: \n",
    "    if historical: \n",
    "        plot_diagnostic_climo_periods(read_gcs_zarr(data_dict['coarse']['cmip6'][ssp]), \n",
    "                                      ssp, years, variable, basic_diag_type, 'cmip6', \n",
    "                                      units[variable], ds_hist=read_gcs_zarr(data_dict['coarse']['cmip6']['historical']), \n",
    "                                      vmin=280, vmax=320)\n",
    "    else:\n",
    "        print(\"not including historical period in diagnostics\")\n",
    "        plot_diagnostic_climo_periods(read_gcs_zarr(data_dict['coarse']['cmip6'][ssp]), \n",
    "                                      ssp, years, variable, basic_diag_type, 'cmip6', \n",
    "                                      units[variable], \n",
    "                                      vmin=280, vmax=320)"
   ]
  },
  {
   "cell_type": "code",
   "execution_count": null,
   "metadata": {},
   "outputs": [],
   "source": [
    "if bias_corrected and basic_diagnostics: \n",
    "    if historical: \n",
    "        plot_diagnostic_climo_periods(read_gcs_zarr(data_dict['coarse']['bias_corrected'][ssp]), \n",
    "                                      ssp, years, variable, basic_diag_type, 'bias_corrected', \n",
    "                                      units[variable], ds_hist=read_gcs_zarr(data_dict['coarse']['bias_corrected']['historical']), \n",
    "                                      vmin=280, vmax=320)\n",
    "    else:\n",
    "        print(\"not including historical period in diagnostics\")\n",
    "        plot_diagnostic_climo_periods(read_gcs_zarr(data_dict['coarse']['bias_corrected'][ssp]), \n",
    "                                      ssp, years, variable, basic_diag_type, 'bias_corrected', \n",
    "                                      units[variable], \n",
    "                                      vmin=280, vmax=320)"
   ]
  },
  {
   "cell_type": "code",
   "execution_count": null,
   "metadata": {},
   "outputs": [],
   "source": [
    "if downscaled and basic_diagnostics: \n",
    "    if historical: \n",
    "        plot_diagnostic_climo_periods(read_gcs_zarr(data_dict['fine']['downscaled'][ssp]), \n",
    "                                      ssp, years, variable, basic_diag_type, 'downscaled', \n",
    "                                      units[variable], ds_hist=read_gcs_zarr(data_dict['fine']['downscaled']['historical']), \n",
    "                                      vmin=280, vmax=320)\n",
    "    else:\n",
    "        print(\"not including historical period in diagnostics\")\n",
    "        plot_diagnostic_climo_periods(read_gcs_zarr(data_dict['fine']['downscaled'][ssp]), \n",
    "                                      ssp, years, variable, basic_diag_type, 'downscaled', \n",
    "                                      units[variable], \n",
    "                                      vmin=280, vmax=320)"
   ]
  },
  {
   "cell_type": "markdown",
   "metadata": {},
   "source": [
    "### GMST ### "
   ]
  },
  {
   "cell_type": "code",
   "execution_count": null,
   "metadata": {},
   "outputs": [],
   "source": [
    "if gmst: \n",
    "    if historical:\n",
    "        plot_gmst_diagnostic(read_gcs_zarr(data_dict['coarse']['cmip6'][ssp]), \n",
    "                             read_gcs_zarr(data_dict['coarse']['bias_corrected'][ssp]), \n",
    "                             variable=variable, ssp=ssp, \n",
    "                             ds_hist_cmip6=read_gcs_zarr(data_dict['coarse']['cmip6']['historical']), \n",
    "                             ds_hist_bc=read_gcs_zarr(data_dict['coarse']['bias_corrected']['historical']))\n",
    "    else:\n",
    "        plot_gmst_diagnostic(read_gcs_zarr(data_dict['coarse']['cmip6'][ssp]), \n",
    "                             read_gcs_zarr(data_dict['coarse']['bias_corrected'][ssp]), \n",
    "                             variable=variable, ssp=ssp)"
   ]
  },
  {
   "cell_type": "markdown",
   "metadata": {},
   "source": [
    "### Difference plots: bias corrected - downscaled OR historical - future (bias corrected and downscaled data outputs) ###\n",
    "\n",
    "Note: if doing bias corrected - downscaled, these two cells produce the same figure. If doing historical - future, the first will show differences for bias corrected and the second for downscaled. For the latter option, `historical` must be `True` in the parameters cell and the correct `diff_type` must be set. "
   ]
  },
  {
   "cell_type": "code",
   "execution_count": null,
   "metadata": {},
   "outputs": [],
   "source": [
    "if bias_corrected and difference_plots:\n",
    "    if historical:\n",
    "        plot_bias_correction_downscale_differences(read_gcs_zarr(data_dict['fine']['bias_corrected'][ssp]), \n",
    "                                                   read_gcs_zarr(data_dict['fine']['downscaled'][ssp]), \n",
    "                                                   diff_type, 'bias_corrected', variable, units[variable], years, \n",
    "                                                   ds_hist_bc=read_gcs_zarr(data_dict['fine']['bias_corrected']['historical']),\n",
    "                                                   ds_hist_ds=read_gcs_zarr(data_dict['fine']['downscaled']['historical']),\n",
    "                                                       ssp=ssp, time_period=projection_time_period)\n",
    "    else:\n",
    "        plot_bias_correction_downscale_differences(read_gcs_zarr(data_dict['fine']['bias_corrected'][ssp]), \n",
    "                                                   read_gcs_zarr(data_dict['fine']['downscaled'][ssp]), \n",
    "                                                   diff_type, 'bias_corrected', variable, units[variable], years, \n",
    "                                                   ssp=ssp, time_period=projection_time_period)"
   ]
  },
  {
   "cell_type": "markdown",
   "metadata": {},
   "source": [
    "same figure, colorbar not constrained (controlled by optional argument `robust=False`)"
   ]
  },
  {
   "cell_type": "code",
   "execution_count": null,
   "metadata": {},
   "outputs": [],
   "source": [
    "if bias_corrected and difference_plots:\n",
    "    if historical:\n",
    "        plot_bias_correction_downscale_differences(read_gcs_zarr(data_dict['fine']['bias_corrected'][ssp]), \n",
    "                                                   read_gcs_zarr(data_dict['fine']['downscaled'][ssp]), \n",
    "                                                   diff_type, 'bias_corrected', variable, units[variable], years, robust=False,\n",
    "                                                   ds_hist_bc=read_gcs_zarr(data_dict['fine']['bias_corrected']['historical']),\n",
    "                                                   ds_hist_ds=read_gcs_zarr(data_dict['fine']['downscaled']['historical']),\n",
    "                                                       ssp=ssp, time_period=projection_time_period)\n",
    "    else:\n",
    "        plot_bias_correction_downscale_differences(read_gcs_zarr(data_dict['fine']['bias_corrected'][ssp]), \n",
    "                                                   read_gcs_zarr(data_dict['fine']['downscaled'][ssp]), \n",
    "                                                   diff_type, 'bias_corrected', variable, units[variable], years, robust=False,\n",
    "                                                   ssp=ssp, time_period=projection_time_period)"
   ]
  },
  {
   "cell_type": "code",
   "execution_count": null,
   "metadata": {},
   "outputs": [],
   "source": [
    "if downscaled and difference_plots:\n",
    "    if historical:\n",
    "        plot_bias_correction_downscale_differences(read_gcs_zarr(data_dict['fine']['bias_corrected'][ssp]), \n",
    "                                                   read_gcs_zarr(data_dict['fine']['downscaled'][ssp]), \n",
    "                                                   diff_type, 'downscaled', variable, units[variable], years, \n",
    "                                                   ds_hist_bc=read_gcs_zarr(data_dict['fine']['bias_corrected']['historical']),\n",
    "                                                   ds_hist_ds=read_gcs_zarr(data_dict['fine']['downscaled']['historical']),\n",
    "                                                       ssp=ssp, time_period=projection_time_period)\n",
    "    else:\n",
    "        plot_bias_correction_downscale_differences(read_gcs_zarr(data_dict['fine']['bias_corrected'][ssp]), \n",
    "                                                   read_gcs_zarr(data_dict['fine']['downscaled'][ssp]), \n",
    "                                                   diff_type, 'downscaled', variable, units[variable], years, \n",
    "                                                   ssp=ssp, time_period=projection_time_period)"
   ]
  },
  {
   "cell_type": "markdown",
   "metadata": {},
   "source": [
    "### Difference plots for days over 95 degrees F using tasmax ###"
   ]
  },
  {
   "cell_type": "code",
   "execution_count": null,
   "metadata": {},
   "outputs": [],
   "source": [
    "if hot_days and cmip6 and difference_plots and historical :\n",
    "        plot_bias_correction_downscale_differences(read_gcs_zarr(data_dict['fine']['bias_corrected'][ssp]), \n",
    "                                                   read_gcs_zarr(data_dict['fine']['downscaled'][ssp]),\n",
    "                                                   read_gcs_zarr(data_dict['coarse']['cmip6'][ssp]), \n",
    "                                                   'change_from_historical', 'cmip6', variable, 'days with tasmax >= 95F', years, \n",
    "                                                   ds_hist_bc=read_gcs_zarr(data_dict['fine']['bias_corrected']['historical']),\n",
    "                                                   ds_hist_ds=read_gcs_zarr(data_dict['fine']['downscaled']['historical']),\n",
    "                                                   ds_hist_cmip=read_gcs_zarr(data_dict['coarse']['cmip6']['historical']),\n",
    "                                                       ssp=ssp, time_period=projection_time_period, xr_func=xr_conditional_count)"
   ]
  },
  {
   "cell_type": "code",
   "execution_count": null,
   "metadata": {},
   "outputs": [],
   "source": [
    "if hot_days and bias_corrected and difference_plots and historical:\n",
    "        plot_bias_correction_downscale_differences(read_gcs_zarr(data_dict['fine']['bias_corrected'][ssp]), \n",
    "                                                   read_gcs_zarr(data_dict['fine']['downscaled'][ssp]),\n",
    "                                                   read_gcs_zarr(data_dict['coarse']['cmip6'][ssp]), \n",
    "                                                   'change_from_historical', 'bias_corrected', variable, 'days with tasmax >= 95F', years, \n",
    "                                                   ds_hist_bc=read_gcs_zarr(data_dict['fine']['bias_corrected']['historical']),\n",
    "                                                   ds_hist_ds=read_gcs_zarr(data_dict['fine']['downscaled']['historical']),\n",
    "                                                   ds_hist_cmip=read_gcs_zarr(data_dict['coarse']['cmip6']['historical']),\n",
    "                                                       ssp=ssp, time_period=projection_time_period, xr_func=xr_conditional_count)"
   ]
  },
  {
   "cell_type": "code",
   "execution_count": null,
   "metadata": {},
   "outputs": [],
   "source": [
    "if hot_days and downscaled and difference_plots and historical:\n",
    "        plot_bias_correction_downscale_differences(read_gcs_zarr(data_dict['fine']['bias_corrected'][ssp]), \n",
    "                                                   read_gcs_zarr(data_dict['fine']['downscaled'][ssp]),\n",
    "                                                   read_gcs_zarr(data_dict['coarse']['cmip6'][ssp]), \n",
    "                                                   'change_from_historical', 'downscaled', variable, 'days with tasmax >= 95F', years, \n",
    "                                                   ds_hist_bc=read_gcs_zarr(data_dict['fine']['bias_corrected']['historical']),\n",
    "                                                   ds_hist_ds=read_gcs_zarr(data_dict['fine']['downscaled']['historical']),\n",
    "                                                   ds_hist_cmip=read_gcs_zarr(data_dict['coarse']['cmip6']['historical']),\n",
    "                                                       ssp=ssp, time_period=projection_time_period, xr_func=xr_conditional_count)"
   ]
  },
  {
   "cell_type": "markdown",
   "metadata": {},
   "source": [
    "### Precip - dry days ###"
   ]
  },
  {
   "cell_type": "code",
   "execution_count": null,
   "metadata": {},
   "outputs": [],
   "source": [
    "if variable=='pr'\n",
    "    plot_diagnostic_climo_periods(read_gcs_zarr(data_dict['fine']['downscaled'][ssp]), \n",
    "                                  ssp, years, variable, basic_diag_type, 'downscaled', \n",
    "                                  units[variable], ds_hist=read_gcs_zarr(data_dict['fine']['downscaled']['historical']), \n",
    "                                  vmin=0, vmax=200, xr_func=xc_maximum_consecutive_dry_days)"
   ]
  },
  {
   "cell_type": "markdown",
   "metadata": {},
   "source": [
    "### Precip - accumulated ###"
   ]
  },
  {
   "cell_type": "code",
   "execution_count": null,
   "metadata": {},
   "outputs": [],
   "source": [
    "if variable=='pr'\n",
    "    plot_diagnostic_climo_periods(read_gcs_zarr(data_dict['fine']['downscaled'][ssp]), \n",
    "                                  ssp, years, variable, basic_diag_type, 'downscaled', \n",
    "                                  units[variable], ds_hist=read_gcs_zarr(data_dict['fine']['downscaled']['historical']), \n",
    "                                  vmin=0, vmax=200, xr_func=xc_maximum_consecutive_dry_days)"
   ]
  }
 ],
 "metadata": {
  "kernelspec": {
   "display_name": "Python 3",
   "language": "python",
   "name": "python3"
  },
  "language_info": {
   "codemirror_mode": {
    "name": "ipython",
    "version": 3
   },
   "file_extension": ".py",
   "mimetype": "text/x-python",
   "name": "python",
   "nbconvert_exporter": "python",
   "pygments_lexer": "ipython3",
   "version": "3.8.6"
  },
  "widgets": {
   "application/vnd.jupyter.widget-state+json": {
    "state": {},
    "version_major": 2,
    "version_minor": 0
   }
  }
 },
 "nbformat": 4,
 "nbformat_minor": 4
}
