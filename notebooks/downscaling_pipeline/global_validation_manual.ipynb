{
 "cells": [
  {
   "cell_type": "markdown",
   "metadata": {
    "tags": []
   },
   "source": [
    "### Global Validation ###"
   ]
  },
  {
   "cell_type": "code",
   "execution_count": null,
   "metadata": {},
   "outputs": [],
   "source": [
    "# in case you're modifying external modules while running stuff from this notebook\n",
    "# %load_ext autoreload\n",
    "# %autoreload"
   ]
  },
  {
   "cell_type": "code",
   "execution_count": null,
   "metadata": {},
   "outputs": [],
   "source": [
    "! pip install xclim # we don't have this package on compute.impactlab ;"
   ]
  },
  {
   "cell_type": "code",
   "execution_count": null,
   "metadata": {},
   "outputs": [],
   "source": [
    "%matplotlib inline \n",
    "import xarray as xr\n",
    "import numpy as np\n",
    "import dask\n",
    "import dask.array as da\n",
    "import dask.distributed as dd\n",
    "import matplotlib.pyplot as plt\n",
    "from cartopy import config\n",
    "import cartopy.crs as ccrs\n",
    "import cartopy.feature as cfeature\n",
    "import os \n",
    "import gcsfs \n",
    "from matplotlib import cm\n",
    "import warnings \n",
    "import json \n",
    "from science_validation_manual import *\n"
   ]
  },
  {
   "cell_type": "markdown",
   "metadata": {},
   "source": [
    "### Parametrizing ###"
   ]
  },
  {
   "cell_type": "code",
   "execution_count": null,
   "metadata": {
    "tags": [
     "parameters"
    ]
   },
   "outputs": [],
   "source": [
    "gcm = 'CAMS-CSM1-0'\n",
    "ssp = 'ssp370' # ssp options: 'ssp126', 'ssp245', 'ssp370', 'ssp585'\n",
    "variable = 'tasmax' # variable options: 'tasmax', 'tasmin', 'dtr', 'pr'\n",
    "data_paths_file = '/home/jovyan/output/tasmax_gcms_data_paths.json'"
   ]
  },
  {
   "cell_type": "markdown",
   "metadata": {},
   "source": [
    "### Retrieving data paths from workflow ### "
   ]
  },
  {
   "cell_type": "code",
   "execution_count": null,
   "metadata": {},
   "outputs": [],
   "source": [
    "with open(data_paths_file) as json_file:\n",
    "    data_dict_gcm = json.load(json_file)[gcm]"
   ]
  },
  {
   "cell_type": "markdown",
   "metadata": {},
   "source": [
    "### Computations ### "
   ]
  },
  {
   "cell_type": "code",
   "execution_count": null,
   "metadata": {
    "tags": []
   },
   "outputs": [],
   "source": [
    "years = {'hist': {'start_yr': '1995', 'end_yr': '2014'}, \n",
    "              '2020_2040': {'start_yr': '2020', 'end_yr': '2040'}, \n",
    "              '2040_2060': {'start_yr': '2040', 'end_yr': '2060'}, \n",
    "              '2060_2080': {'start_yr': '2060', 'end_yr': '2080'}, \n",
    "              '2080_2100': {'start_yr': '2080', 'end_yr': '2100'}}\n",
    "\n",
    "# here you will pre-compute stuff \n",
    "# xr_collapse_to_map_periods() -> bidecadal tasmax min/mean/max and yearly hot days count mean\n",
    "# xr_collapse_to_time_series() -> GMST\n",
    "# xr_collapse_to_map() -> for the diffs"
   ]
  },
  {
   "cell_type": "markdown",
   "metadata": {
    "tags": []
   },
   "source": [
    "### Maps ### "
   ]
  },
  {
   "cell_type": "code",
   "execution_count": null,
   "metadata": {},
   "outputs": [],
   "source": [
    "# for cmip6, bias corrected and downscaled\n",
    "# min, mean, max of tasmax\n",
    "# for each bidecade\n",
    "\n",
    "# xr_colored_maps()"
   ]
  },
  {
   "cell_type": "markdown",
   "metadata": {
    "tags": []
   },
   "source": [
    "### Time series ### "
   ]
  },
  {
   "cell_type": "code",
   "execution_count": null,
   "metadata": {},
   "outputs": [],
   "source": [
    "# for cmip6, bias corrected and downscaled\n",
    "\n",
    "# xr_colored_time_series()"
   ]
  },
  {
   "cell_type": "markdown",
   "metadata": {
    "jp-MarkdownHeadingCollapsed": true,
    "tags": []
   },
   "source": [
    "### Difference maps ###"
   ]
  },
  {
   "cell_type": "code",
   "execution_count": null,
   "metadata": {},
   "outputs": [],
   "source": [
    "# for a selected bidecade\n",
    "# map of mean downscaled - mean biascorrected\n",
    "# map of mean future - mean historical for both bias corrected and downscaled\n",
    "# same as above but for hot days\n",
    "\n",
    "# xr_colored_maps()"
   ]
  }
 ],
 "metadata": {
  "kernelspec": {
   "display_name": "Python 3 (ipykernel)",
   "language": "python",
   "name": "python3"
  },
  "language_info": {
   "codemirror_mode": {
    "name": "ipython",
    "version": 3
   },
   "file_extension": ".py",
   "mimetype": "text/x-python",
   "name": "python",
   "nbconvert_exporter": "python",
   "pygments_lexer": "ipython3",
   "version": "3.9.5"
  },
  "widgets": {
   "application/vnd.jupyter.widget-state+json": {
    "state": {},
    "version_major": 2,
    "version_minor": 0
   }
  }
 },
 "nbformat": 4,
 "nbformat_minor": 4
}
