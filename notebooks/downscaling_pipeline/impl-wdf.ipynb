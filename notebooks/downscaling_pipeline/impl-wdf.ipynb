{
 "cells": [
  {
   "cell_type": "code",
   "execution_count": 1,
   "id": "0c648062-b3aa-4480-b968-091ab24d22f3",
   "metadata": {},
   "outputs": [],
   "source": [
    "%%capture\n",
    "! pip install xclim"
   ]
  },
  {
   "cell_type": "code",
   "execution_count": 2,
   "id": "a14aad86-8995-43dd-b0a6-194eee28070a",
   "metadata": {},
   "outputs": [],
   "source": [
    "import xarray as xr\n",
    "import numpy as np\n",
    "from science_validation_manual import *\n",
    "import time "
   ]
  },
  {
   "cell_type": "code",
   "execution_count": 3,
   "id": "6d67b3dc-0f91-489a-9afe-b9512a483654",
   "metadata": {},
   "outputs": [
    {
     "name": "stderr",
     "output_type": "stream",
     "text": [
      "/srv/conda/envs/notebook/lib/python3.8/site-packages/dask_gateway/client.py:21: FutureWarning: format_bytes is deprecated and will be removed in a future release. Please use dask.utils.format_bytes instead.\n",
      "  from distributed.utils import LoopRunner, format_bytes\n"
     ]
    }
   ],
   "source": [
    "import rhg_compute_tools.kubernetes as rhgk"
   ]
  },
  {
   "cell_type": "code",
   "execution_count": 4,
   "id": "0d1ad116-4222-45ae-abec-41670256e28e",
   "metadata": {},
   "outputs": [],
   "source": [
    "client, cluster = rhgk.get_micro_cluster()"
   ]
  },
  {
   "cell_type": "code",
   "execution_count": 5,
   "id": "0dc3ba38-9f63-4132-baec-78df8b266c83",
   "metadata": {},
   "outputs": [
    {
     "data": {
      "application/vnd.jupyter.widget-view+json": {
       "model_id": "4e82d74a323749caaf15dec872647f72",
       "version_major": 2,
       "version_minor": 0
      },
      "text/plain": [
       "VBox(children=(HTML(value='<h2>GatewayCluster</h2>'), HBox(children=(HTML(value='\\n<div>\\n<style scoped>\\n    …"
      ]
     },
     "metadata": {},
     "output_type": "display_data"
    }
   ],
   "source": [
    "cluster.scale(50)\n",
    "cluster"
   ]
  },
  {
   "cell_type": "code",
   "execution_count": 6,
   "id": "b8a7f6c8-d4e2-4042-95f2-e46c649e12c0",
   "metadata": {},
   "outputs": [],
   "source": [
    "client.restart()\n",
    "client.close()\n",
    "cluster.close()"
   ]
  },
  {
   "cell_type": "code",
   "execution_count": null,
   "id": "8a45a9e5-a310-4f20-967a-2f2dbb58d026",
   "metadata": {},
   "outputs": [],
   "source": [
    "now = time.time()"
   ]
  },
  {
   "cell_type": "code",
   "execution_count": null,
   "id": "fc462cda-4825-4932-8be2-5d5e8602b7da",
   "metadata": {},
   "outputs": [],
   "source": [
    "ds = read_gcs_zarr('gs://clean-b1dbca25/cmip6/ScenarioMIP/BCC/BCC-CSM2-MR/ssp370/r1i1p1f1/day/pr/gn/v20190318.zarr')"
   ]
  },
  {
   "cell_type": "code",
   "execution_count": null,
   "id": "a6d533c3-d205-4288-bd24-6260ff95b2ed",
   "metadata": {},
   "outputs": [],
   "source": [
    "da_pr = ds['pr']"
   ]
  },
  {
   "cell_type": "code",
   "execution_count": null,
   "id": "5d2e1bd9-d9be-4fe5-b8cd-412c00b1f9fa",
   "metadata": {},
   "outputs": [],
   "source": [
    "da_pr_changed = da_pr.where(da_pr >= 1, np.random.uniform(0.5, 1, da_pr.shape))"
   ]
  },
  {
   "cell_type": "code",
   "execution_count": null,
   "id": "2d43dc3e-87e6-4291-b310-e041df2e0f90",
   "metadata": {},
   "outputs": [],
   "source": [
    "print((time.time() - now)/60/60)"
   ]
  },
  {
   "cell_type": "code",
   "execution_count": null,
   "id": "df32fe6c-9178-4f8c-809c-575f23a2a597",
   "metadata": {},
   "outputs": [],
   "source": [
    "dt = read_gcs_zarr('gs://scratch-170cd6ec/24fd73ce-f345-4105-a5aa-6c7750359272/qdm-preprocess-dev-7qmf9-3419536200/wdf-corrected.zarr')"
   ]
  },
  {
   "cell_type": "code",
   "execution_count": null,
   "id": "3ccb5360-50e9-4886-b443-c7dbec37d5f6",
   "metadata": {},
   "outputs": [],
   "source": [
    "dt.min.compute()"
   ]
  }
 ],
 "metadata": {
  "kernelspec": {
   "display_name": "Python 3 (ipykernel)",
   "language": "python",
   "name": "python3"
  },
  "language_info": {
   "codemirror_mode": {
    "name": "ipython",
    "version": 3
   },
   "file_extension": ".py",
   "mimetype": "text/x-python",
   "name": "python",
   "nbconvert_exporter": "python",
   "pygments_lexer": "ipython3",
   "version": "3.8.12"
  },
  "widgets": {
   "application/vnd.jupyter.widget-state+json": {
    "state": {
     "000548d7cc2d41cdbebae3cedd75da1a": {
      "model_module": "@jupyter-widgets/controls",
      "model_module_version": "1.5.0",
      "model_name": "HTMLModel",
      "state": {
       "layout": "IPY_MODEL_76e3d13f621640168afeec788fcf0e0b",
       "style": "IPY_MODEL_deb17996314b488ab55fcf824d1fe20a",
       "value": "<p><b>Dashboard: </b><a href=\"/services/dask-gateway/clusters/impactlab-hub.01ac17f1e17c4b4b8b8da2c1b387f67e/status\" target=\"_blank\">/services/dask-gateway/clusters/impactlab-hub.01ac17f1e17c4b4b8b8da2c1b387f67e/status</a></p>\n"
      }
     },
     "0bbb44b4395541fda8c886bdb99da8d0": {
      "model_module": "@jupyter-widgets/base",
      "model_module_version": "1.2.0",
      "model_name": "LayoutModel",
      "state": {}
     },
     "234c00c55baf4d318c678dc0239b7320": {
      "model_module": "@jupyter-widgets/controls",
      "model_module_version": "1.5.0",
      "model_name": "DescriptionStyleModel",
      "state": {
       "description_width": ""
      }
     },
     "24b526c09d084b5587c83e3fd0b65f12": {
      "model_module": "@jupyter-widgets/controls",
      "model_module_version": "1.5.0",
      "model_name": "HBoxModel",
      "state": {
       "children": [
        "IPY_MODEL_eae4f55df67f4c6f94f51c50739f744d",
        "IPY_MODEL_4a2b92c8543b42b7912ff0e563186b27"
       ],
       "layout": "IPY_MODEL_57fc3ecad8b14a2289ebfc7b00bb76a5"
      }
     },
     "2551250b190d4e2db4fc473fae0625a0": {
      "model_module": "@jupyter-widgets/base",
      "model_module_version": "1.2.0",
      "model_name": "LayoutModel",
      "state": {}
     },
     "32272a7c34ff4d59a54c643dc8a069a0": {
      "model_module": "@jupyter-widgets/controls",
      "model_module_version": "1.5.0",
      "model_name": "ButtonStyleModel",
      "state": {}
     },
     "33e19970c53143848d3a00d29410e0ca": {
      "model_module": "@jupyter-widgets/controls",
      "model_module_version": "1.5.0",
      "model_name": "DescriptionStyleModel",
      "state": {
       "description_width": ""
      }
     },
     "3549ef09096046ffb408c60e749edc36": {
      "model_module": "@jupyter-widgets/controls",
      "model_module_version": "1.5.0",
      "model_name": "IntTextModel",
      "state": {
       "description": "Minimum",
       "layout": "IPY_MODEL_9e117d6b84ca4aa68014bb99da91dd83",
       "step": 1,
       "style": "IPY_MODEL_e07a3989911942a985d9bfc0f256d56c"
      }
     },
     "4701b14eb797476ab3a77618d4756a3d": {
      "model_module": "@jupyter-widgets/controls",
      "model_module_version": "1.5.0",
      "model_name": "IntTextModel",
      "state": {
       "description": "Maximum",
       "layout": "IPY_MODEL_9e117d6b84ca4aa68014bb99da91dd83",
       "step": 1,
       "style": "IPY_MODEL_234c00c55baf4d318c678dc0239b7320"
      }
     },
     "4a2b92c8543b42b7912ff0e563186b27": {
      "model_module": "@jupyter-widgets/controls",
      "model_module_version": "1.5.0",
      "model_name": "AccordionModel",
      "state": {
       "_titles": {
        "0": "Manual Scaling",
        "1": "Adaptive Scaling"
       },
       "children": [
        "IPY_MODEL_dc7a8c25b0c744e7b433d5a487fb24e8",
        "IPY_MODEL_cfc1ab95da2744258fc606997e7b7127"
       ],
       "layout": "IPY_MODEL_f8a3107d41fb4145a12ce284b18821f6",
       "selected_index": null
      }
     },
     "4e82d74a323749caaf15dec872647f72": {
      "model_module": "@jupyter-widgets/controls",
      "model_module_version": "1.5.0",
      "model_name": "VBoxModel",
      "state": {
       "children": [
        "IPY_MODEL_e296621432a649728a529d5888bb2c02",
        "IPY_MODEL_24b526c09d084b5587c83e3fd0b65f12",
        "IPY_MODEL_c376b265d34542289d88a8f6631144fb",
        "IPY_MODEL_000548d7cc2d41cdbebae3cedd75da1a"
       ],
       "layout": "IPY_MODEL_fac1d08eebf44965b4bf6c045d487f1b"
      }
     },
     "57fc3ecad8b14a2289ebfc7b00bb76a5": {
      "model_module": "@jupyter-widgets/base",
      "model_module_version": "1.2.0",
      "model_name": "LayoutModel",
      "state": {}
     },
     "64f224a0062a4d1b8e4b3f03734ccd67": {
      "model_module": "@jupyter-widgets/controls",
      "model_module_version": "1.5.0",
      "model_name": "DescriptionStyleModel",
      "state": {
       "description_width": ""
      }
     },
     "716d911e27ac417a9bfa8d495520176d": {
      "model_module": "@jupyter-widgets/controls",
      "model_module_version": "1.5.0",
      "model_name": "ButtonStyleModel",
      "state": {}
     },
     "76e3d13f621640168afeec788fcf0e0b": {
      "model_module": "@jupyter-widgets/base",
      "model_module_version": "1.2.0",
      "model_name": "LayoutModel",
      "state": {}
     },
     "776b64fbea05458ba601cb36dc80613f": {
      "model_module": "@jupyter-widgets/base",
      "model_module_version": "1.2.0",
      "model_name": "LayoutModel",
      "state": {}
     },
     "8ef505c885f1435b9c05c2d790c7db7e": {
      "model_module": "@jupyter-widgets/controls",
      "model_module_version": "1.5.0",
      "model_name": "ButtonModel",
      "state": {
       "description": "Scale",
       "layout": "IPY_MODEL_9e117d6b84ca4aa68014bb99da91dd83",
       "style": "IPY_MODEL_32272a7c34ff4d59a54c643dc8a069a0"
      }
     },
     "9e117d6b84ca4aa68014bb99da91dd83": {
      "model_module": "@jupyter-widgets/base",
      "model_module_version": "1.2.0",
      "model_name": "LayoutModel",
      "state": {
       "width": "150px"
      }
     },
     "bf0924b4e1014a66ab2e0064483b59cc": {
      "model_module": "@jupyter-widgets/controls",
      "model_module_version": "1.5.0",
      "model_name": "ButtonModel",
      "state": {
       "description": "Adapt",
       "layout": "IPY_MODEL_9e117d6b84ca4aa68014bb99da91dd83",
       "style": "IPY_MODEL_716d911e27ac417a9bfa8d495520176d"
      }
     },
     "c376b265d34542289d88a8f6631144fb": {
      "model_module": "@jupyter-widgets/controls",
      "model_module_version": "1.5.0",
      "model_name": "HTMLModel",
      "state": {
       "layout": "IPY_MODEL_d8ded5b034c64e1592155c56dfe083e6",
       "style": "IPY_MODEL_64f224a0062a4d1b8e4b3f03734ccd67",
       "value": "<p><b>Name: </b>impactlab-hub.01ac17f1e17c4b4b8b8da2c1b387f67e</p>"
      }
     },
     "cf826d70e7b745108649621151303d99": {
      "model_module": "@jupyter-widgets/base",
      "model_module_version": "1.2.0",
      "model_name": "LayoutModel",
      "state": {
       "min_width": "150px"
      }
     },
     "cfc1ab95da2744258fc606997e7b7127": {
      "model_module": "@jupyter-widgets/controls",
      "model_module_version": "1.5.0",
      "model_name": "HBoxModel",
      "state": {
       "children": [
        "IPY_MODEL_3549ef09096046ffb408c60e749edc36",
        "IPY_MODEL_4701b14eb797476ab3a77618d4756a3d",
        "IPY_MODEL_bf0924b4e1014a66ab2e0064483b59cc"
       ],
       "layout": "IPY_MODEL_2551250b190d4e2db4fc473fae0625a0"
      }
     },
     "d8ded5b034c64e1592155c56dfe083e6": {
      "model_module": "@jupyter-widgets/base",
      "model_module_version": "1.2.0",
      "model_name": "LayoutModel",
      "state": {}
     },
     "dc7a8c25b0c744e7b433d5a487fb24e8": {
      "model_module": "@jupyter-widgets/controls",
      "model_module_version": "1.5.0",
      "model_name": "HBoxModel",
      "state": {
       "children": [
        "IPY_MODEL_e2ba85cf103c4222a20e287f2ac37ab7",
        "IPY_MODEL_8ef505c885f1435b9c05c2d790c7db7e"
       ],
       "layout": "IPY_MODEL_0bbb44b4395541fda8c886bdb99da8d0"
      }
     },
     "deb17996314b488ab55fcf824d1fe20a": {
      "model_module": "@jupyter-widgets/controls",
      "model_module_version": "1.5.0",
      "model_name": "DescriptionStyleModel",
      "state": {
       "description_width": ""
      }
     },
     "e07a3989911942a985d9bfc0f256d56c": {
      "model_module": "@jupyter-widgets/controls",
      "model_module_version": "1.5.0",
      "model_name": "DescriptionStyleModel",
      "state": {
       "description_width": ""
      }
     },
     "e296621432a649728a529d5888bb2c02": {
      "model_module": "@jupyter-widgets/controls",
      "model_module_version": "1.5.0",
      "model_name": "HTMLModel",
      "state": {
       "layout": "IPY_MODEL_776b64fbea05458ba601cb36dc80613f",
       "style": "IPY_MODEL_33e19970c53143848d3a00d29410e0ca",
       "value": "<h2>GatewayCluster</h2>"
      }
     },
     "e2ba85cf103c4222a20e287f2ac37ab7": {
      "model_module": "@jupyter-widgets/controls",
      "model_module_version": "1.5.0",
      "model_name": "IntTextModel",
      "state": {
       "description": "Workers",
       "layout": "IPY_MODEL_9e117d6b84ca4aa68014bb99da91dd83",
       "step": 1,
       "style": "IPY_MODEL_eb0ebd5eebb84eb0a1451373b140b210"
      }
     },
     "eae4f55df67f4c6f94f51c50739f744d": {
      "model_module": "@jupyter-widgets/controls",
      "model_module_version": "1.5.0",
      "model_name": "HTMLModel",
      "state": {
       "layout": "IPY_MODEL_cf826d70e7b745108649621151303d99",
       "style": "IPY_MODEL_fcf42cd4206a4d97a84ec18bb0abcb1b",
       "value": "\n<div>\n<style scoped>\n    .dataframe tbody tr th:only-of-type {\n        vertical-align: middle;\n    }\n\n    .dataframe tbody tr th {\n        vertical-align: top;\n    }\n\n    .dataframe thead th {\n        text-align: right;\n    }\n</style>\n<table style=\"text-align: right;\">\n    <tr><th>Workers</th> <td>50</td></tr>\n    <tr><th>Cores</th> <td>50</td></tr>\n    <tr><th>Memory</th> <td>281.00 GiB</td></tr>\n</table>\n</div>\n"
      }
     },
     "eb0ebd5eebb84eb0a1451373b140b210": {
      "model_module": "@jupyter-widgets/controls",
      "model_module_version": "1.5.0",
      "model_name": "DescriptionStyleModel",
      "state": {
       "description_width": ""
      }
     },
     "f8a3107d41fb4145a12ce284b18821f6": {
      "model_module": "@jupyter-widgets/base",
      "model_module_version": "1.2.0",
      "model_name": "LayoutModel",
      "state": {
       "min_width": "500px"
      }
     },
     "fac1d08eebf44965b4bf6c045d487f1b": {
      "model_module": "@jupyter-widgets/base",
      "model_module_version": "1.2.0",
      "model_name": "LayoutModel",
      "state": {}
     },
     "fcf42cd4206a4d97a84ec18bb0abcb1b": {
      "model_module": "@jupyter-widgets/controls",
      "model_module_version": "1.5.0",
      "model_name": "DescriptionStyleModel",
      "state": {
       "description_width": ""
      }
     }
    },
    "version_major": 2,
    "version_minor": 0
   }
  }
 },
 "nbformat": 4,
 "nbformat_minor": 5
}
