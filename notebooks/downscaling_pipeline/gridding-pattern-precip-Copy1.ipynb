{
 "cells": [
  {
   "cell_type": "code",
   "execution_count": 1,
   "id": "23abfe56-b50d-4b34-be54-7e8dc3e835dd",
   "metadata": {},
   "outputs": [],
   "source": [
    "%%capture\n",
    "! pip install xclim"
   ]
  },
  {
   "cell_type": "code",
   "execution_count": null,
   "id": "04d356cb-062a-448c-892f-dd18407f6ce6",
   "metadata": {},
   "outputs": [],
   "source": [
    "import xclim.sdba"
   ]
  },
  {
   "cell_type": "code",
   "execution_count": null,
   "id": "c0eb24a9-dde5-4548-a178-dd7f7eb9e05a",
   "metadata": {},
   "outputs": [],
   "source": [
    "import xesmf\n",
    "import xarray as xr\n",
    "import numpy as np\n",
    "from science_validation_manual import *\n",
    "import matplotlib.pyplot as plt\n",
    "import cartopy.crs as ccrs\n",
    "import rhg_compute_tools.kubernetes as rhgk"
   ]
  },
  {
   "cell_type": "code",
   "execution_count": null,
   "id": "922df5db-2bf2-4317-91ff-439f18cf8df5",
   "metadata": {},
   "outputs": [],
   "source": [
    "client, cluster = rhgk.get_micro_cluster()"
   ]
  },
  {
   "cell_type": "code",
   "execution_count": null,
   "id": "4b799449-e2ef-490e-b541-1bc3518718bb",
   "metadata": {},
   "outputs": [],
   "source": [
    "cluster.scale(100)\n",
    "cluster"
   ]
  },
  {
   "cell_type": "code",
   "execution_count": null,
   "id": "abc10105-e382-4a8f-9eea-ddbfafedc4ec",
   "metadata": {},
   "outputs": [],
   "source": [
    "domain = read_gcs_zarr('gs://support-c23ff1a3/domain.0p25x0p25.zarr')"
   ]
  },
  {
   "cell_type": "code",
   "execution_count": null,
   "id": "11e9ffb3-32fd-4faa-9c23-a1e9cf48690c",
   "metadata": {},
   "outputs": [],
   "source": [
    "domain"
   ]
  },
  {
   "cell_type": "code",
   "execution_count": null,
   "id": "1b0b252b-76cf-4603-bdf8-2d6e86544b94",
   "metadata": {},
   "outputs": [],
   "source": [
    "ds_before_regrid = read_gcs_zarr('gs://scratch-170cd6ec/d9d8e40f-8b68-477b-a706-ed2e2a21698e/e2e-bcc-csm2-mr-pr-dev-xkhlh-4082033234/rechunked.zarr')"
   ]
  },
  {
   "cell_type": "code",
   "execution_count": null,
   "id": "6e79b91a-4e92-4c67-8f74-cdfb4db22736",
   "metadata": {},
   "outputs": [],
   "source": [
    "regridder = xesmf.Regridder(\n",
    "    x,\n",
    "    domain,\n",
    "    method='conservative'\n",
    ")"
   ]
  },
  {
   "cell_type": "code",
   "execution_count": null,
   "id": "f723d7a1-7528-486c-a2a6-fd7dc2a34a7e",
   "metadata": {},
   "outputs": [],
   "source": [
    "client.close()\n",
    "cluster.close()"
   ]
  },
  {
   "cell_type": "code",
   "execution_count": null,
   "id": "4a28f995-ee87-4cac-b773-508efbf6b832",
   "metadata": {},
   "outputs": [],
   "source": [
    "da = read_gcs_zarr('gs://clean-b1dbca25/cmip6/ScenarioMIP/BCC/BCC-CSM2-MR/ssp370/r1i1p1f1/day/pr/gn/v20190318.zarr')['pr']\n",
    "plt.figure(figsize=(24,24))\n",
    "ax = plt.axes(projection=ccrs.PlateCarree())\n",
    "da.isel(time=slice(0, 720)).where(da < 1).count('time').plot.pcolormesh(ax=ax);\n",
    "ax.coastlines();\n",
    "plt.title(f'dry days bcc-csm2 ssp370 cleaned')"
   ]
  },
  {
   "cell_type": "code",
   "execution_count": null,
   "id": "267f7536-e3ce-4cdb-8f69-0dda7938963a",
   "metadata": {},
   "outputs": [],
   "source": [
    "da = read_gcs_zarr('gs://scratch-170cd6ec/c9d92aef-c68c-479b-9ebd-cd1d643000b9/qdm-preprocess-dev-6ksl6-1876554127/out.zarr')['pr']\n",
    "plt.figure(figsize=(24,24))\n",
    "ax = plt.axes(projection=ccrs.PlateCarree())\n",
    "da.where(da <= 1).count('time').plot.pcolormesh(ax=ax);\n",
    "ax.coastlines();\n",
    "plt.title(f'dry days bcc-csm2 ssp370 non wd and regridded')"
   ]
  },
  {
   "cell_type": "code",
   "execution_count": null,
   "id": "e2f199c7-c8f4-4df7-9341-f79fa3530f13",
   "metadata": {},
   "outputs": [],
   "source": [
    "da = read_gcs_zarr('gs://scratch-170cd6ec/c9d92aef-c68c-479b-9ebd-cd1d643000b9/qdm-preprocess-dev-6ksl6-614060684/rechunked.zarr')"
   ]
  },
  {
   "cell_type": "code",
   "execution_count": null,
   "id": "63d4f1fc-2bd4-4240-b85c-98f8e5672da5",
   "metadata": {},
   "outputs": [],
   "source": [
    "da.where(da < 1).min().compute()"
   ]
  },
  {
   "cell_type": "code",
   "execution_count": null,
   "id": "ffc5ea69-9b41-4edd-936d-e8b85b6cf480",
   "metadata": {},
   "outputs": [],
   "source": [
    "da.where(da < 1).max().compute()"
   ]
  },
  {
   "cell_type": "code",
   "execution_count": null,
   "id": "feda72fc-8869-407a-bbda-04277b46a17d",
   "metadata": {},
   "outputs": [],
   "source": [
    "athens = da.sel(lon=37.98, lat=23.72, method='nearest')"
   ]
  },
  {
   "cell_type": "code",
   "execution_count": null,
   "id": "49dde579-0bc5-451f-b3b7-1f2ac91ba061",
   "metadata": {},
   "outputs": [],
   "source": [
    "athens_dry = athens.where(athens<1, drop=True)"
   ]
  },
  {
   "cell_type": "code",
   "execution_count": null,
   "id": "3393a247-cf0a-46df-a4f1-a6bb3513e479",
   "metadata": {},
   "outputs": [],
   "source": [
    "minval = da.min().compute()"
   ]
  },
  {
   "cell_type": "code",
   "execution_count": null,
   "id": "61e8f01c-fcbb-495d-a562-1058e969182a",
   "metadata": {},
   "outputs": [],
   "source": [
    "da = read_gcs_zarr('gs://scratch-170cd6ec/d9d8e40f-8b68-477b-a706-ed2e2a21698e/e2e-bcc-csm2-mr-pr-dev-xkhlh-2016165429/wdf-corrected.zarr')['pr']\n",
    "plt.figure(figsize=(24,24))\n",
    "ax = plt.axes(projection=ccrs.PlateCarree())\n",
    "da.where(da == minval.item()).count('time').plot.pcolormesh(ax=ax);\n",
    "ax.coastlines();\n",
    "plt.title(f'at threhsold bcc-csm2 ssp370 wd NOT regridded, e2e-bcc-csm2-mr-pr-dev-xkhlh')"
   ]
  },
  {
   "cell_type": "code",
   "execution_count": null,
   "id": "d80d3fd0-5b42-46a5-9789-d7bde5496c61",
   "metadata": {
    "tags": []
   },
   "outputs": [],
   "source": [
    "da = read_gcs_zarr('gs://scratch-170cd6ec/d9d8e40f-8b68-477b-a706-ed2e2a21698e/e2e-bcc-csm2-mr-pr-dev-xkhlh-1521363201/out.zarr')['pr']\n",
    "plt.figure(figsize=(24,24))\n",
    "ax = plt.axes(projection=ccrs.PlateCarree())\n",
    "da.isel(time=slice(0, 720)).where(da == da.min().compute().values.item()).count('time').plot.pcolormesh(ax=ax);\n",
    "ax.coastlines();\n",
    "plt.title(f'== 0.6268846 days bcc-csm2 ssp370 wd and regridded, e2e-bcc-csm2-mr-pr-dev-xkhlh')"
   ]
  },
  {
   "cell_type": "code",
   "execution_count": null,
   "id": "7d51730a-4499-43cc-98c5-4fda9c87b129",
   "metadata": {},
   "outputs": [],
   "source": [
    "da = read_gcs_zarr('gs://scratch-170cd6ec/c9d92aef-c68c-479b-9ebd-cd1d643000b9/qdm-preprocess-dev-6ksl6-1876554127/out.zarr')['pr']\n",
    "plt.figure(figsize=(24,24))\n",
    "ax = plt.axes(projection=ccrs.PlateCarree())\n",
    "da.where(da < 0.7).count('time').plot.pcolormesh(ax=ax);\n",
    "ax.coastlines();\n",
    "plt.title(f'< 0.7 days bcc-csm2 ssp370 NO wd and regridded, qdm-preprocess-dev-6ksl6')"
   ]
  },
  {
   "cell_type": "code",
   "execution_count": null,
   "id": "7b6d5a59-7a90-4c81-a626-765900ff8fe0",
   "metadata": {},
   "outputs": [],
   "source": [
    "da = read_gcs_zarr('gs://scratch-170cd6ec/51f4590d-9c75-4682-80d7-74090e4b3072/qdm-preprocess-dev-sk77z-2311758123/out.zarr')['pr']\n",
    "plt.figure(figsize=(24,24))\n",
    "ax = plt.axes(projection=ccrs.PlateCarree())\n",
    "da.where(da < 1.67).count('time').plot.pcolormesh(ax=ax);\n",
    "ax.coastlines();\n",
    "plt.title(f'< 0.7 days bcc-csm2 ssp370 wd at 2 and regridded, qdm-preprocess-dev-sk77z')"
   ]
  },
  {
   "cell_type": "code",
   "execution_count": null,
   "id": "5b48b31f-aad1-46f7-bcb0-ffc21fe81c3b",
   "metadata": {},
   "outputs": [],
   "source": [
    "#da = xr.DataArray(data=np.array([[0.5, 1],[3, 0.2]]), dims=['lon','lat'], coords={'lon':[40, 50], 'lat':[30, 20]})\n",
    "def censor(x):\n",
    "    if x < 1:\n",
    "        return np.random.uniform(low=0.5, high=1)\n",
    "    else:\n",
    "        return x"
   ]
  },
  {
   "cell_type": "code",
   "execution_count": null,
   "id": "f73ff828-fcae-4921-8efa-67eda48f8bb1",
   "metadata": {},
   "outputs": [],
   "source": [
    "ds = read_gcs_zarr('gs://clean-b1dbca25/cmip6/ScenarioMIP/BCC/BCC-CSM2-MR/ssp370/r1i1p1f1/day/pr/gn/v20190318.zarr')"
   ]
  },
  {
   "cell_type": "code",
   "execution_count": null,
   "id": "e33dd625-ef6a-4b8d-a854-59590e92d624",
   "metadata": {},
   "outputs": [],
   "source": [
    "ds = ds.drop_dims('bnds')"
   ]
  },
  {
   "cell_type": "code",
   "execution_count": null,
   "id": "a52032c6-e490-4cd6-83db-dc262a8139b6",
   "metadata": {},
   "outputs": [],
   "source": [
    "ds = ds.isel(time=slice(0, 720))"
   ]
  },
  {
   "cell_type": "code",
   "execution_count": null,
   "id": "2bc7e92f-2f6f-4bdf-b27f-3fb42f954f6c",
   "metadata": {},
   "outputs": [],
   "source": [
    "ds = ds.compute()"
   ]
  },
  {
   "cell_type": "code",
   "execution_count": null,
   "id": "062c6b15-d2c1-4966-a2b0-286da8b3f5b9",
   "metadata": {},
   "outputs": [],
   "source": [
    "def censor(x):\n",
    "    if x < 1:\n",
    "        return np.random.uniform(low=0.5, high=1)\n",
    "    else:\n",
    "        return x"
   ]
  },
  {
   "cell_type": "code",
   "execution_count": null,
   "id": "17d993a0-3dd6-47ca-a6a3-e39da7703840",
   "metadata": {},
   "outputs": [],
   "source": [
    "# [-180, 180] -> [0, 360]\n",
    "def lon360(lon180):\n",
    "    return ((360 + (lon180 % 360)) % 360)\n",
    "lon360 = np.vectorize(lon360)"
   ]
  },
  {
   "cell_type": "code",
   "execution_count": null,
   "id": "214c39db-94f2-4e62-a43c-3d9815af26fb",
   "metadata": {},
   "outputs": [],
   "source": [
    "# vice versa\n",
    "def lon180(lon360):\n",
    "    if (lon360 > 180.0):\n",
    "        return lon360 - 360.0\n",
    "    else:\n",
    "        return lon360\n",
    "lon180 = np.vectorize(lon180)"
   ]
  },
  {
   "cell_type": "code",
   "execution_count": null,
   "id": "71bb5ea7-aec4-4c0a-9561-248dc2b64d06",
   "metadata": {},
   "outputs": [],
   "source": [
    "#ds.lon_bnds.values = lon180(ds.lon_bnds.values)"
   ]
  },
  {
   "cell_type": "code",
   "execution_count": null,
   "id": "43d0de35-d9b6-4811-8c2e-e7decf68ffb0",
   "metadata": {},
   "outputs": [],
   "source": [
    "#ds = ds.assign_coords(lon=(((ds.lon + 180) % 360) - 180))"
   ]
  },
  {
   "cell_type": "code",
   "execution_count": null,
   "id": "f313795f-420d-442f-a7d6-f285ca6905e0",
   "metadata": {},
   "outputs": [],
   "source": [
    "ds_corrected = xr.apply_ufunc(np.vectorize(censor), ds)"
   ]
  },
  {
   "cell_type": "code",
   "execution_count": null,
   "id": "39ce1255-536a-43af-9042-1a9635425392",
   "metadata": {},
   "outputs": [],
   "source": [
    "# wet day frequency correction\n",
    "#ds_corrected = ds.where(ds > 1.0, np.random.uniform(low=0.5, high=1.0))"
   ]
  },
  {
   "cell_type": "code",
   "execution_count": null,
   "id": "07a4161c-55e8-47d7-bdd4-58f6ae6d0cff",
   "metadata": {},
   "outputs": [],
   "source": [
    "ds_corrected['pr'].min().values.item()"
   ]
  },
  {
   "cell_type": "code",
   "execution_count": null,
   "id": "a8d1febe-5b75-4509-b264-31092eb68c34",
   "metadata": {},
   "outputs": [],
   "source": [
    "# regridding\n",
    "domain = read_gcs_zarr('gs://support-c23ff1a3/domain.1x1.zarr')"
   ]
  },
  {
   "cell_type": "code",
   "execution_count": null,
   "id": "11b0d4b9-7bed-4d66-bcec-a56af586f740",
   "metadata": {},
   "outputs": [],
   "source": [
    "domain"
   ]
  },
  {
   "cell_type": "code",
   "execution_count": null,
   "id": "d64b9a8c-225e-443e-87ff-a0a9ed67a218",
   "metadata": {},
   "outputs": [],
   "source": [
    "#domain = xesmf.util.grid_global(1, 1, cf=True)"
   ]
  },
  {
   "cell_type": "code",
   "execution_count": null,
   "id": "bd793720-092c-4996-83a9-37f039ff2e70",
   "metadata": {},
   "outputs": [],
   "source": [
    "#domain = domain.rename({\"lon\":\"longitude\", \"lat\":\"latitude\"})"
   ]
  },
  {
   "cell_type": "code",
   "execution_count": null,
   "id": "9b8d31f4-9706-4ef3-8523-22d38ccbe039",
   "metadata": {},
   "outputs": [],
   "source": [
    "#ds_corrected = ds_corrected.rename({\"lon\":\"longitude\", \"lat\":\"latitude\"})"
   ]
  },
  {
   "cell_type": "code",
   "execution_count": null,
   "id": "e9ca6014-98a2-4990-b6fe-70af80890d68",
   "metadata": {},
   "outputs": [],
   "source": [
    "ds_corrected"
   ]
  },
  {
   "cell_type": "code",
   "execution_count": null,
   "id": "a189701c-20af-41af-84d6-37b9160747ad",
   "metadata": {},
   "outputs": [],
   "source": [
    "regridder = xesmf.Regridder(ds_in=ds_corrected, ds_out=domain, method='bilinear')"
   ]
  },
  {
   "cell_type": "code",
   "execution_count": null,
   "id": "6a08e2ac-7ed8-4b75-b607-f6c04f83c746",
   "metadata": {},
   "outputs": [],
   "source": [
    "regridded = regridder(indata=ds_corrected['pr'])"
   ]
  },
  {
   "cell_type": "code",
   "execution_count": null,
   "id": "b70db3da-c1b4-4b5e-9212-7d14f0241717",
   "metadata": {},
   "outputs": [],
   "source": [
    "da = ds_corrected['pr']\n",
    "plt.figure(figsize=(24,24))\n",
    "ax = plt.axes(projection=ccrs.PlateCarree())\n",
    "da.isel(time=0).plot.pcolormesh(ax=ax);\n",
    "ax.coastlines();\n",
    "plt.title(f'before')"
   ]
  },
  {
   "cell_type": "code",
   "execution_count": null,
   "id": "c183e632-d562-42db-bf47-3b0da4b7c767",
   "metadata": {},
   "outputs": [],
   "source": [
    "da = regridded\n",
    "plt.figure(figsize=(24,24))\n",
    "ax = plt.axes(projection=ccrs.PlateCarree())\n",
    "da.where(da<1).count('time').plot.pcolormesh(ax=ax);\n",
    "ax.coastlines();\n",
    "plt.title(f'after')"
   ]
  },
  {
   "cell_type": "code",
   "execution_count": null,
   "id": "1704e069-0755-4435-8538-bd51c976c73b",
   "metadata": {},
   "outputs": [],
   "source": [
    "# GCM cleaned data\n",
    "ds"
   ]
  },
  {
   "cell_type": "code",
   "execution_count": null,
   "id": "8d597e7d-27e6-448a-aca3-4af809a78775",
   "metadata": {},
   "outputs": [],
   "source": [
    "# 'gs://support-c23ff1a3/domain.1x1.zarr'\n",
    "domain"
   ]
  },
  {
   "cell_type": "code",
   "execution_count": null,
   "id": "3a562116-a91c-4c32-9980-9ad25c32e10a",
   "metadata": {},
   "outputs": [],
   "source": [
    "ds_corrected.lon_bnds.values"
   ]
  },
  {
   "cell_type": "code",
   "execution_count": null,
   "id": "ce99a946-048d-4afd-9b48-cd895b8650c1",
   "metadata": {},
   "outputs": [],
   "source": [
    "import xesmf as xe\n",
    "\n",
    "# target grid (2 times 2 cells)\n",
    "coarse_grid = xe.util.grid_global(0.25, 0.25)#xe.util.grid_global(180, 90)\n",
    "# source grid (3 times 3 cells) with some array of values\n",
    "fine_grid = xe.util.grid_global(1, 1)#xe.util.grid_global(72, 36)\n",
    "da = xe.data.wave_smooth(fine_grid[\"lon\"], fine_grid[\"lat\"])\n",
    "#da.values = np.ones((5, 5))\n",
    "#da.values = np.array([[0.05, 0.2, 0.05], [0.1, 0.1, 0.1], [0.3, 0.05, 0.05]])*100\n",
    "fine_grid['data'] = da\n",
    "regridder = xe.Regridder(ds_in=fine_grid, ds_out=coarse_grid, method='conservative')\n",
    "regridded = regridder(fine_grid['data'])"
   ]
  },
  {
   "cell_type": "code",
   "execution_count": null,
   "id": "a1050985-8a5e-4793-bfe7-7750b949b1b5",
   "metadata": {},
   "outputs": [],
   "source": [
    "da = regridded\n",
    "plt.figure(figsize=(24,24))\n",
    "ax = plt.axes(projection=ccrs.PlateCarree())\n",
    "da.plot.pcolormesh(ax=ax);\n",
    "ax.coastlines();\n",
    "plt.title(f'after')"
   ]
  },
  {
   "cell_type": "code",
   "execution_count": null,
   "id": "cacc6217-857b-4792-82ed-aa073c1a66ba",
   "metadata": {},
   "outputs": [],
   "source": []
  },
  {
   "cell_type": "code",
   "execution_count": null,
   "id": "9bbd0b06-3a10-43ce-94ab-0adb9eb31f38",
   "metadata": {},
   "outputs": [],
   "source": []
  }
 ],
 "metadata": {
  "kernelspec": {
   "display_name": "Python 3 (ipykernel)",
   "language": "python",
   "name": "python3"
  },
  "language_info": {
   "codemirror_mode": {
    "name": "ipython",
    "version": 3
   },
   "file_extension": ".py",
   "mimetype": "text/x-python",
   "name": "python",
   "nbconvert_exporter": "python",
   "pygments_lexer": "ipython3",
   "version": "3.8.12"
  },
  "widgets": {
   "application/vnd.jupyter.widget-state+json": {
    "state": {},
    "version_major": 2,
    "version_minor": 0
   }
  }
 },
 "nbformat": 4,
 "nbformat_minor": 5
}
